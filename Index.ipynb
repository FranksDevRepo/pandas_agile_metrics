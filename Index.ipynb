{
 "cells": [
  {
   "cell_type": "code",
   "execution_count": null,
   "metadata": {},
   "outputs": [],
   "source": [
    "print('hello world')"
   ]
  },
  {
   "cell_type": "code",
   "execution_count": null,
   "metadata": {},
   "outputs": [],
   "source": [
    "from io import StringIO\n",
    "import pandas as pd"
   ]
  },
  {
   "cell_type": "code",
   "execution_count": null,
   "metadata": {},
   "outputs": [],
   "source": [
    "TESTDATA = StringIO(\"\"\"\n",
    "ID\tLink\tName\tBacklog\tNext\tIn-progress\tDone\tCoS\tWIT\tDeadline\tBlocked Days\tDeleted\tLabels\n",
    "6\t\tWhat is the longest you've been awake?\t2019-02-06\t2019-02-06\t2019-02-06\t2019-02-07\tIntangible\tV\t\t\t\t\n",
    "11\t\tWhat are your favorite hot dog toppings?\t2019-02-07\t2019-02-07\t2019-02-07\t2019-02-07\tIntangible\tV\t\t\t\t\n",
    "17\t\tWhere did you get your name?\t2019-02-07\t2019-02-07\t2019-02-07\t2019-02-07\tStandard\tT\t\t\t\t\n",
    "20\t\tHave you ever fainted?\t2019-02-07\t2019-02-07\t2019-02-07\t2019-02-07\tStandard\tD\t\t\t2019-02-07\t\n",
    "14\t\tWhat is your favorite lunch meal?\t2019-02-06\t2019-02-06\t2019-02-06\t2019-02-08\tExpedite\tD\t\t\t2019-02-08\t\n",
    "9\t\tWhat do you do as excerise?\t2019-02-07\t2019-02-07\t2019-02-07\t2019-02-08\tStandard\tV\t\t\t2019-02-08\t\n",
    "13\t\twhich do you like better, being a passenger or driver?\t2019-02-07\t2019-02-07\t2019-02-08\t2019-02-08\tIntangible\tD\t\t\t\t\n",
    "4\t\tHave you ever bungee jumped?\t2019-02-08\t2019-02-08\t2019-02-08\t2019-02-08\tStandard\tC\t\t\t\t\n",
    "16\t\tHave you ever jumped out of a plane?\t2019-02-08\t2019-02-08\t2019-02-08\t2019-02-08\tExpedite\tL\t\t\t\t\n",
    "15\t\tWhat are your favorite movies?\t2019-02-08\t2019-02-08\t2019-02-08\t2019-02-09\tIntangible\tC\t\t\t2019-02-09\t\n",
    "10\t\tDo you like flying?\t2019-02-09\t2019-02-09\t2019-02-09\t2019-02-09\tIntangible\tV\t\t\t\t\n",
    "18\t\tWhat is your favorite school subject?\t2019-02-09\t2019-02-09\t2019-02-09\t2019-02-09\tStandard\tT\t\t\t\t\n",
    "19\t\tDo you swear often?\t2019-02-09\t2019-02-09\t2019-02-09\t2019-02-09\tStandard\tC\t\t\t\t\n",
    "2\t\tWhich do you like better, cars or trucks?\t2019-02-09\t2019-02-10\t2019-02-10\t2019-02-10\tStandard\tD\t2019-02-11\t\t\t\n",
    "3\t\tAre you religious?\t2019-02-09\t2019-02-10\t2019-02-10\t2019-02-10\tStandard\tD\t\t\t\t\n",
    "5\t\tDo you have nice handwriting?\t2019-02-10\t2019-02-10\t2019-02-10\t2019-02-10\tStandard\tV\t\t\t\t\n",
    "8\t\tHave you ever been on TV?\t2019-02-07\t2019-02-07\t2019-02-08\t2019-02-17\tStandard\tC\t\t6\t\t\n",
    "12\t\tHave you ever burnt your hair?\t2019-02-06\t2019-02-06\t2019-02-08\t2019-02-22\tStandard\tV\t\t15\t\t\n",
    "7\t\tHave you ever ironed clothes?\t2019-02-08\t2019-02-08\t2019-02-22\t2019-02-22\tIntangible\tV\t2019-02-08\t\t\t\n",
    "1\t\tWhat is your favorite dinner meal?\t2019-02-07\t2019-02-22\t2019-02-22\t2019-02-22\tStandard\tL\t\t\t\t\n",
    "21\t\tWhat is your favorite cereal?\t2019-02-22\t2019-02-22\t2019-02-22\t2019-02-23\tStandard\tD\t\t\t\t\n",
    "33\t\tHave you ever been to a zoo?\t2019-02-08\t2019-02-23\t2019-02-23\t2019-02-23\tStandard\tD\t\t\t\t\n",
    "30\t\tIf you had to swap lives with someone famous, who would you choose?\t2019-02-07\t2019-02-07\t2019-02-07\t2019-02-24\tStandard\tD\t\t\t\t\n",
    "24\t\tWhere do you see yourself in ten years?\t2019-02-10\t2019-02-10\t2019-02-10\t2019-02-24\tStandard\tL\t\t\t\t\n",
    "35\t\tWhat is your first memory?\t2019-02-23\t2019-02-23\t2019-02-23\t2019-02-25\tFixed Date\tV\t2019-02-26\t\t\t\n",
    "29\t\tWhich do you like better, TV or movies?\t2019-02-23\t2019-02-23\t2019-02-23\t2019-02-28\tStandard\tD\t\t\t\t\n",
    "22\t\tWhat is your favorite holiday?\t2019-02-27\t2019-02-27\t2019-02-27\t2019-02-28\tStandard\tD\t\t\t\t\n",
    "23\t\tHave you ever slept outside?\t2019-02-27\t2019-02-27\t2019-02-27\t2019-02-28\tStandard\tV\t\t\t\t\n",
    "27\t\tWhat is the strangest thing you've eaten?\t2019-02-27\t2019-02-27\t2019-02-27\t2019-02-28\tStandard\tD\t\t\t\t\n",
    "25\t\tWhat is your favorite season?\t2019-02-27\t2019-02-27\t2019-02-28\t2019-02-28\tStandard\tC\t\t\t2019-02-28\t\n",
    "26\t\tWhat is your favorite clothing brand?\t2019-02-27\t2019-02-27\t2019-02-28\t2019-03-02\tStandard\tD\t\t\t\t\n",
    "28\t\tWhat is your least favorite chore?\t2019-02-08\t2019-02-08\t2019-02-08\t\tStandard\tD\t\t\t\t\n",
    "34\t\tWhen is your birthday?\t2019-02-09\t2019-02-09\t2019-02-09\t\tFixed Date\tD2\t2019-03-06\t\t\t\n",
    "32\t\tWhat is your favorite Disney movie?\t2019-02-09\t2019-02-09\t2019-02-09\t\tFixed Date\tD\t2019-03-07\t\t\t\n",
    "42\t\tWhat is your favorite dessert?\t2019-02-27\t2019-02-27\t2019-03-02\t\tStandard\tV\t\t\t\t\n",
    "31\t\tWhat is your favorite flavor of ice cream?\t2019-02-22\t2019-02-22\t\t\tExpedite\tD\t\t13\t\t\n",
    "38\t\tIf you could have a superpower, what would you choose?\t2019-02-27\t2019-02-27\t\t\tFixed Date\tD\t2019-03-11\t\t\t\n",
    "36\t\tWhich do you like better, city or country?\t2019-02-27\t2019-02-27\t\t\tIntangible\tV\t\t\t\t\n",
    "37\t\tWhat is your favorite cheese?\t2019-02-27\t2019-02-27\t\t\tStandard\tV\t\t\t\t\n",
    "40\t\tWhere is you favorite place to eat?\t2019-02-27\t2019-02-27\t\t\tStandard\tV\t\t\t\t\n",
    "41\t\tWhich do you like better, rain or snow?\t2019-02-27\t2019-02-27\t\t\tStandard\tD\t\t\t\t\n",
    "39\t\tWhich do you like better, beer or wine?\t2019-03-05\t\t\t\tStandard\tD\t\t\t\t\n",
    "\"\"\")"
   ]
  },
  {
   "cell_type": "code",
   "execution_count": null,
   "metadata": {},
   "outputs": [],
   "source": [
    "df = pd.read_csv(TESTDATA, sep=\"\\t\")"
   ]
  },
  {
   "cell_type": "code",
   "execution_count": null,
   "metadata": {},
   "outputs": [],
   "source": [
    "df"
   ]
  },
  {
   "cell_type": "code",
   "execution_count": null,
   "metadata": {},
   "outputs": [],
   "source": []
  }
 ],
 "metadata": {
  "kernelspec": {
   "display_name": "Python 3",
   "language": "python",
   "name": "python3"
  },
  "language_info": {
   "name": ""
  }
 },
 "nbformat": 4,
 "nbformat_minor": 2
}
