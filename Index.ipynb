{
 "cells": [
  {
   "cell_type": "markdown",
   "metadata": {},
   "source": [
    "# Kanban metrics spreadsheet calculations via Python Notebook \n",
    "\n",
    "See the following for more inspiration:\n",
    "\n",
    "https://actionableagile.com/\n",
    "\n",
    "https://bitbucket.org/marcobresciani/aamfp\n",
    "\n",
    "There is much confusion in the Agile and Lean community about the names of the various cycle times. Lets clarify the names given to the various timings associated with work items moving through the system. \n",
    "\n",
    "We must remember that flow efficiency deals with the touch times and the wait times while in the process’s FLOW TIME. Wait times spent outside the process’s FLOW TIME, which is Queue Time or Delivery Time, are often wrongly included in Flow efficiency calculations.\n",
    "\n",
    "![Key timings](https://kanbanize.com/blog/wp-content/uploads/2019/02/TameFlow-Times-1.png \"Key Timings\")\n",
    "    "
   ]
  },
  {
   "cell_type": "markdown",
   "metadata": {},
   "source": [
    "## Import libraries"
   ]
  },
  {
   "cell_type": "code",
   "execution_count": 284,
   "metadata": {},
   "outputs": [],
   "source": [
    "\n",
    "import pandas as pd # Python Data Analysis Library https://pandas.pydata.org/\n",
    "import numpy as np # NumPy is the fundamental package for scientific computing with Python. http://www.numpy.org/\n",
    "\n",
    "import matplotlib.pyplot as plt  #Plotting library\n",
    "import matplotlib.dates as mdates #Dates information from the plotting library\n",
    "from matplotlib.dates import MONDAY\n",
    "\n",
    "from scipy import stats # Maths functions - Need to get Weibull function for Flow Time histogram."
   ]
  },
  {
   "cell_type": "code",
   "execution_count": 285,
   "metadata": {},
   "outputs": [],
   "source": [
    "# Matplotlib axis locator functions\n",
    "mondays = mdates.WeekdayLocator(MONDAY) # every monday\n",
    "alldays = mdates.DayLocator() #every day"
   ]
  },
  {
   "cell_type": "code",
   "execution_count": 286,
   "metadata": {},
   "outputs": [],
   "source": [
    "from io import StringIO #Read and write strings as files"
   ]
  },
  {
   "cell_type": "code",
   "execution_count": 287,
   "metadata": {},
   "outputs": [],
   "source": [
    "today_str=pd.to_datetime('today').date().strftime(\"%Y-%m-%d\")\n",
    "today_nice_str=pd.to_datetime('today').date().strftime(\"As at %a %d %b %Y - ISOWeek %V\")"
   ]
  },
  {
   "cell_type": "code",
   "execution_count": 288,
   "metadata": {},
   "outputs": [
    {
     "data": {
      "text/plain": [
       "('2019-03-08', 'As at Fri 08 Mar 2019 - ISOWeek 10')"
      ]
     },
     "execution_count": 288,
     "metadata": {},
     "output_type": "execute_result"
    }
   ],
   "source": [
    "today_str, today_nice_str"
   ]
  },
  {
   "cell_type": "markdown",
   "metadata": {},
   "source": [
    "## Load in the stories/issues data activity."
   ]
  },
  {
   "cell_type": "markdown",
   "metadata": {},
   "source": [
    "Issue/Story activity data captured in spreadsheet or extracted from issue tracking tool, such as Jira or etc.\n",
    "\n",
    "Either load in from spreadsheet or copy and paste from Excel or LibreOffice. "
   ]
  },
  {
   "cell_type": "markdown",
   "metadata": {},
   "source": [
    "### Load in Activities from excel sheet \n",
    "\n",
    "https://bitbucket.org/marcobresciani/aamfp"
   ]
  },
  {
   "cell_type": "code",
   "execution_count": 289,
   "metadata": {},
   "outputs": [
    {
     "data": {
      "text/plain": [
       "Index(['ID', 'Link', 'Name', 'Backlog', 'Next', 'In-progress', 'Done', 'CoS',\n",
       "       'WIT', 'Deadline', 'Blocked Days', 'Deleted', 'Labels'],\n",
       "      dtype='object')"
      ]
     },
     "execution_count": 289,
     "metadata": {},
     "output_type": "execute_result"
    }
   ],
   "source": [
    "activities_df = pd.read_excel('AAMfP.xlsx',sheet_name='Activities')\n",
    "activities_df.columns"
   ]
  },
  {
   "cell_type": "markdown",
   "metadata": {},
   "source": [
    "### Load in Activities from next-gen Jira board extract\n",
    "\n",
    "https://www.link_to_extract_utility_to_go_here.com"
   ]
  },
  {
   "cell_type": "code",
   "execution_count": 290,
   "metadata": {},
   "outputs": [
    {
     "data": {
      "text/plain": [
       "Index(['key', 'url', 'summary', 'BACKLOG', 'REFINING', 'NEXT', 'IN PROGRESS',\n",
       "       'REVIEW', 'DONE', 'ABANDONED', 'ARCHIVED', 'issue_type', 'duedate',\n",
       "       'non_working_days', 'updated', 'created_timestamp', 'resolution',\n",
       "       'resolution_date', 'status', 'attachments', 'labels', 'id', 'assignee',\n",
       "       'history', 'project', 'epickey', 'summary_epic', 'CycleTime(Days)',\n",
       "       'Age(Days)'],\n",
       "      dtype='object')"
      ]
     },
     "execution_count": 290,
     "metadata": {},
     "output_type": "execute_result"
    }
   ],
   "source": [
    "\n",
    "activities_df = pd.read_excel('BPDTS-coaching-Issues_2019-03-01.xlsx',sheet_name='Activities')\n",
    "activities_df.columns"
   ]
  },
  {
   "cell_type": "markdown",
   "metadata": {},
   "source": [
    "### Copy and paste activities from Excel or LibreOffice"
   ]
  },
  {
   "cell_type": "code",
   "execution_count": 291,
   "metadata": {},
   "outputs": [],
   "source": [
    "#DATASHEET = StringIO(\"\"\"\n",
    "#\n",
    "#\"\"\")\n",
    "DATASHEET = StringIO(\"\"\"\n",
    "ID\tLink\tName\tBacklog\tNext\tIn-progress\tDone\tCoS\tWIT\tDeadline\tBlocked Days\tDeleted\tLabels\n",
    "6\t\tWhat is the longest you've been awake?\t2019-02-07\t2019-02-07\t2019-02-07\t2019-02-08\tIntangible\tV\t\t\t\t\n",
    "11\t\tWhat are your favorite hot dog toppings?\t2019-02-08\t2019-02-08\t2019-02-08\t2019-02-08\tIntangible\tV\t\t\t\t\n",
    "17\t\tWhere did you get your name?\t2019-02-08\t2019-02-08\t2019-02-08\t2019-02-08\tStandard\tT\t\t\t\t\n",
    "20\t\tHave you ever fainted?\t2019-02-08\t2019-02-08\t2019-02-08\t2019-02-08\tStandard\tD\t\t\t2019-02-08\t\n",
    "14\t\tWhat is your favorite lunch meal?\t2019-02-07\t2019-02-07\t2019-02-07\t2019-02-09\tExpedite\tD\t\t\t2019-02-09\t\n",
    "9\t\tWhat do you do as excerise?\t2019-02-08\t2019-02-08\t2019-02-08\t2019-02-09\tStandard\tV\t\t\t2019-02-09\t\n",
    "13\t\twhich do you like better, being a passenger or driver?\t2019-02-08\t2019-02-08\t2019-02-09\t2019-02-09\tIntangible\tD\t\t\t\t\n",
    "4\t\tHave you ever bungee jumped?\t2019-02-09\t2019-02-09\t2019-02-09\t2019-02-09\tStandard\tC\t\t\t\t\n",
    "16\t\tHave you ever jumped out of a plane?\t2019-02-09\t2019-02-09\t2019-02-09\t2019-02-09\tExpedite\tL\t\t\t\t\n",
    "15\t\tWhat are your favorite movies?\t2019-02-09\t2019-02-09\t2019-02-09\t2019-02-10\tIntangible\tC\t\t\t2019-02-10\t\n",
    "10\t\tDo you like flying?\t2019-02-10\t2019-02-10\t2019-02-10\t2019-02-10\tIntangible\tV\t\t\t\t\n",
    "18\t\tWhat is your favorite school subject?\t2019-02-10\t2019-02-10\t2019-02-10\t2019-02-10\tStandard\tT\t\t\t\t\n",
    "19\t\tDo you swear often?\t2019-02-10\t2019-02-10\t2019-02-10\t2019-02-10\tStandard\tC\t\t\t\t\n",
    "2\t\tWhich do you like better, cars or trucks?\t2019-02-10\t2019-02-11\t2019-02-11\t2019-02-11\tStandard\tD\t2019-02-12\t\t\t\n",
    "3\t\tAre you religious?\t2019-02-10\t2019-02-11\t2019-02-11\t2019-02-11\tStandard\tD\t\t\t\t\n",
    "5\t\tDo you have nice handwriting?\t2019-02-11\t2019-02-11\t2019-02-11\t2019-02-11\tStandard\tV\t\t\t\t\n",
    "8\t\tHave you ever been on TV?\t2019-02-08\t2019-02-08\t2019-02-09\t2019-02-18\tStandard\tC\t\t6\t\t\n",
    "12\t\tHave you ever burnt your hair?\t2019-02-07\t2019-02-07\t2019-02-09\t2019-02-23\tStandard\tV\t\t15\t\t\n",
    "7\t\tHave you ever ironed clothes?\t2019-02-09\t2019-02-09\t2019-02-23\t2019-02-23\tIntangible\tV\t2019-02-09\t\t\t\n",
    "1\t\tWhat is your favorite dinner meal?\t2019-02-08\t2019-02-23\t2019-02-23\t2019-02-23\tStandard\tL\t\t\t\t\n",
    "21\t\tWhat is your favorite cereal?\t2019-02-23\t2019-02-23\t2019-02-23\t2019-02-24\tStandard\tD\t\t\t\t\n",
    "33\t\tHave you ever been to a zoo?\t2019-02-09\t2019-02-24\t2019-02-24\t2019-02-24\tStandard\tD\t\t\t\t\n",
    "30\t\tIf you had to swap lives with someone famous, who would you choose?\t2019-02-08\t2019-02-08\t2019-02-08\t2019-02-25\tStandard\tD\t\t\t\t\n",
    "24\t\tWhere do you see yourself in ten years?\t2019-02-11\t2019-02-11\t2019-02-11\t2019-02-25\tStandard\tL\t\t\t\t\n",
    "35\t\tWhat is your first memory?\t2019-02-24\t2019-02-24\t2019-02-24\t2019-02-26\tFixed Date\tV\t2019-02-27\t\t\t\n",
    "29\t\tWhich do you like better, TV or movies?\t2019-02-24\t2019-02-24\t2019-02-24\t2019-03-01\tStandard\tD\t\t\t\t\n",
    "22\t\tWhat is your favorite holiday?\t2019-02-28\t2019-02-28\t2019-02-28\t2019-03-01\tStandard\tD\t\t\t\t\n",
    "23\t\tHave you ever slept outside?\t2019-02-28\t2019-02-28\t2019-02-28\t2019-03-01\tStandard\tV\t\t\t\t\n",
    "27\t\tWhat is the strangest thing you've eaten?\t2019-02-28\t2019-02-28\t2019-02-28\t2019-03-01\tStandard\tD\t\t\t\t\n",
    "25\t\tWhat is your favorite season?\t2019-02-28\t2019-02-28\t2019-03-01\t2019-03-01\tStandard\tC\t\t\t2019-03-01\t\n",
    "26\t\tWhat is your favorite clothing brand?\t2019-02-28\t2019-02-28\t2019-03-01\t2019-03-03\tStandard\tD\t\t\t\t\n",
    "28\t\tWhat is your least favorite chore?\t2019-02-09\t2019-02-09\t2019-02-09\t\tStandard\tD\t\t\t\t\n",
    "34\t\tWhen is your birthday?\t2019-02-10\t2019-02-10\t2019-02-10\t\tFixed Date\tD2\t2019-03-07\t\t\t\n",
    "32\t\tWhat is your favorite Disney movie?\t2019-02-10\t2019-02-10\t2019-02-10\t\tFixed Date\tD\t2019-03-08\t\t\t\n",
    "42\t\tWhat is your favorite dessert?\t2019-02-28\t2019-02-28\t2019-03-03\t\tStandard\tV\t\t\t\t\n",
    "31\t\tWhat is your favorite flavor of ice cream?\t2019-02-23\t2019-02-23\t\t\tExpedite\tD\t\t13\t\t\n",
    "38\t\tIf you could have a superpower, what would you choose?\t2019-02-28\t2019-02-28\t\t\tFixed Date\tD\t2019-03-12\t\t\t\n",
    "36\t\tWhich do you like better, city or country?\t2019-02-28\t2019-02-28\t\t\tIntangible\tV\t\t\t\t\n",
    "37\t\tWhat is your favorite cheese?\t2019-02-28\t2019-02-28\t\t\tStandard\tV\t\t\t\t\n",
    "40\t\tWhere is you favorite place to eat?\t2019-02-28\t2019-02-28\t\t\tStandard\tV\t\t\t\t\n",
    "41\t\tWhich do you like better, rain or snow?\t2019-02-28\t2019-02-28\t\t\tStandard\tD\t\t\t\t\n",
    "39\t\tWhich do you like better, beer or wine?\t2019-03-06\t\t\t\tStandard\tD\t\t\t\t\n",
    "\"\"\")"
   ]
  },
  {
   "cell_type": "code",
   "execution_count": 292,
   "metadata": {},
   "outputs": [],
   "source": [
    "activities_df=pd.read_csv(DATASHEET, sep=\"\\t\")"
   ]
  },
  {
   "cell_type": "markdown",
   "metadata": {},
   "source": [
    "## Check the column names of activity data"
   ]
  },
  {
   "cell_type": "code",
   "execution_count": 293,
   "metadata": {},
   "outputs": [
    {
     "data": {
      "text/plain": [
       "Index(['ID', 'Link', 'Name', 'Backlog', 'Next', 'In-progress', 'Done', 'CoS',\n",
       "       'WIT', 'Deadline', 'Blocked Days', 'Deleted', 'Labels'],\n",
       "      dtype='object')"
      ]
     },
     "execution_count": 293,
     "metadata": {},
     "output_type": "execute_result"
    }
   ],
   "source": [
    "activities_df.columns"
   ]
  },
  {
   "cell_type": "markdown",
   "metadata": {},
   "source": [
    "## Rename columns in order to standardise for calculations"
   ]
  },
  {
   "cell_type": "code",
   "execution_count": 294,
   "metadata": {},
   "outputs": [],
   "source": [
    "#the getattr function seems to have problems when dealing with column name containing a hyphen\n",
    "if 'In-progress' in activities_df.columns:\n",
    "    activities_df.rename(columns={'In-progress':'InProgress'},inplace=True)\n",
    "if 'Blocked Days' in activities_df.columns:\n",
    "    activities_df.rename(columns={'Blocked Days':'WaitTime'},inplace=True)\n",
    "    "
   ]
  },
  {
   "cell_type": "code",
   "execution_count": 59,
   "metadata": {},
   "outputs": [],
   "source": [
    "# Modify this mapping as required.\n",
    "# For BPDTS data\n",
    "activities_df.rename(columns={'key':'ID', \n",
    "                              'url':'Link', \n",
    "                              'summary':'Name', \n",
    "                              'IN PROGRESS':'INPROGRESS',\n",
    "                              'non_working_days':'WaitTime',\n",
    "                              'ABANDONED':'Deleted',\n",
    "                              'duedate':'Deadline'},inplace=True) "
   ]
  },
  {
   "cell_type": "code",
   "execution_count": 295,
   "metadata": {},
   "outputs": [
    {
     "data": {
      "text/plain": [
       "Index(['ID', 'Link', 'Name', 'Backlog', 'Next', 'InProgress', 'Done', 'CoS',\n",
       "       'WIT', 'Deadline', 'WaitTime', 'Deleted', 'Labels'],\n",
       "      dtype='object')"
      ]
     },
     "execution_count": 295,
     "metadata": {},
     "output_type": "execute_result"
    }
   ],
   "source": [
    "activities_df.columns"
   ]
  },
  {
   "cell_type": "markdown",
   "metadata": {},
   "source": [
    "## Make sure that datetype columns are specified in order that functions dealing with dates work"
   ]
  },
  {
   "cell_type": "markdown",
   "metadata": {},
   "source": [
    "### Uncomment row in cell below, depending on the source/configuration of your data"
   ]
  },
  {
   "cell_type": "code",
   "execution_count": 296,
   "metadata": {},
   "outputs": [],
   "source": [
    "date_columns = ['Backlog', 'Next','InProgress', 'Done','Deadline','Deleted']\n",
    "#date_columns = ['BACKLOG', 'REFINING', 'NEXT', 'INPROGRESS','REVIEW', 'DONE', 'Deleted', 'ARCHIVED','Deadline','updated','created_timestamp','resolution_date']\n"
   ]
  },
  {
   "cell_type": "code",
   "execution_count": 297,
   "metadata": {},
   "outputs": [],
   "source": [
    "for datecolumn in date_columns:\n",
    "    #result[datecolumn] = result[datecolumn].apply(lambda x: x.date())\n",
    "    activities_df[datecolumn] = pd.to_datetime(activities_df[datecolumn]) # alternative conversion with date function: .dt.date"
   ]
  },
  {
   "cell_type": "code",
   "execution_count": 298,
   "metadata": {},
   "outputs": [
    {
     "data": {
      "text/plain": [
       "ID                     int64\n",
       "Link                 float64\n",
       "Name                  object\n",
       "Backlog       datetime64[ns]\n",
       "Next          datetime64[ns]\n",
       "InProgress    datetime64[ns]\n",
       "Done          datetime64[ns]\n",
       "CoS                   object\n",
       "WIT                   object\n",
       "Deadline      datetime64[ns]\n",
       "WaitTime             float64\n",
       "Deleted       datetime64[ns]\n",
       "Labels               float64\n",
       "dtype: object"
      ]
     },
     "execution_count": 298,
     "metadata": {},
     "output_type": "execute_result"
    }
   ],
   "source": [
    "activities_df.dtypes"
   ]
  },
  {
   "cell_type": "markdown",
   "metadata": {},
   "source": [
    "## Specify the workflow cycle states in order to generalize calculations"
   ]
  },
  {
   "cell_type": "code",
   "execution_count": 302,
   "metadata": {},
   "outputs": [],
   "source": [
    "# for aamfp sourced data\n",
    "workflow_cycle = ['Backlog', 'Next','InProgress', 'Done']\n",
    "removed_state = ['Deleted']\n",
    "started_state = 'Next' # Commitment point\n",
    "finished_state = 'Done'"
   ]
  },
  {
   "cell_type": "code",
   "execution_count": 300,
   "metadata": {},
   "outputs": [],
   "source": [
    "# for bpdts sourced data\n",
    "workflow_cycle = ['BACKLOG', 'REFINING', 'NEXT', 'INPROGRESS','REVIEW', 'DONE']\n",
    "removed_state = ['Deleted']\n",
    "started_state = 'NEXT' # Commitment point\n",
    "finished_state = 'DONE'"
   ]
  },
  {
   "cell_type": "code",
   "execution_count": 303,
   "metadata": {},
   "outputs": [],
   "source": [
    "in_process_states = workflow_cycle[workflow_cycle.index(started_state):workflow_cycle.index(finished_state)]"
   ]
  },
  {
   "cell_type": "markdown",
   "metadata": {},
   "source": [
    "## Do a sanity check of the activity dataframe"
   ]
  },
  {
   "cell_type": "code",
   "execution_count": 304,
   "metadata": {},
   "outputs": [
    {
     "data": {
      "text/html": [
       "<div>\n",
       "<style scoped>\n",
       "    .dataframe tbody tr th:only-of-type {\n",
       "        vertical-align: middle;\n",
       "    }\n",
       "\n",
       "    .dataframe tbody tr th {\n",
       "        vertical-align: top;\n",
       "    }\n",
       "\n",
       "    .dataframe thead th {\n",
       "        text-align: right;\n",
       "    }\n",
       "</style>\n",
       "<table border=\"1\" class=\"dataframe\">\n",
       "  <thead>\n",
       "    <tr style=\"text-align: right;\">\n",
       "      <th></th>\n",
       "      <th>ID</th>\n",
       "      <th>Link</th>\n",
       "      <th>Name</th>\n",
       "      <th>Backlog</th>\n",
       "      <th>Next</th>\n",
       "      <th>InProgress</th>\n",
       "      <th>Done</th>\n",
       "      <th>CoS</th>\n",
       "      <th>WIT</th>\n",
       "      <th>Deadline</th>\n",
       "      <th>WaitTime</th>\n",
       "      <th>Deleted</th>\n",
       "      <th>Labels</th>\n",
       "    </tr>\n",
       "  </thead>\n",
       "  <tbody>\n",
       "    <tr>\n",
       "      <th>0</th>\n",
       "      <td>6</td>\n",
       "      <td>NaN</td>\n",
       "      <td>What is the longest you've been awake?</td>\n",
       "      <td>2019-02-07</td>\n",
       "      <td>2019-02-07</td>\n",
       "      <td>2019-02-07</td>\n",
       "      <td>2019-02-08</td>\n",
       "      <td>Intangible</td>\n",
       "      <td>V</td>\n",
       "      <td>NaT</td>\n",
       "      <td>NaN</td>\n",
       "      <td>NaT</td>\n",
       "      <td>NaN</td>\n",
       "    </tr>\n",
       "    <tr>\n",
       "      <th>1</th>\n",
       "      <td>11</td>\n",
       "      <td>NaN</td>\n",
       "      <td>What are your favorite hot dog toppings?</td>\n",
       "      <td>2019-02-08</td>\n",
       "      <td>2019-02-08</td>\n",
       "      <td>2019-02-08</td>\n",
       "      <td>2019-02-08</td>\n",
       "      <td>Intangible</td>\n",
       "      <td>V</td>\n",
       "      <td>NaT</td>\n",
       "      <td>NaN</td>\n",
       "      <td>NaT</td>\n",
       "      <td>NaN</td>\n",
       "    </tr>\n",
       "    <tr>\n",
       "      <th>2</th>\n",
       "      <td>17</td>\n",
       "      <td>NaN</td>\n",
       "      <td>Where did you get your name?</td>\n",
       "      <td>2019-02-08</td>\n",
       "      <td>2019-02-08</td>\n",
       "      <td>2019-02-08</td>\n",
       "      <td>2019-02-08</td>\n",
       "      <td>Standard</td>\n",
       "      <td>T</td>\n",
       "      <td>NaT</td>\n",
       "      <td>NaN</td>\n",
       "      <td>NaT</td>\n",
       "      <td>NaN</td>\n",
       "    </tr>\n",
       "    <tr>\n",
       "      <th>3</th>\n",
       "      <td>20</td>\n",
       "      <td>NaN</td>\n",
       "      <td>Have you ever fainted?</td>\n",
       "      <td>2019-02-08</td>\n",
       "      <td>2019-02-08</td>\n",
       "      <td>2019-02-08</td>\n",
       "      <td>2019-02-08</td>\n",
       "      <td>Standard</td>\n",
       "      <td>D</td>\n",
       "      <td>NaT</td>\n",
       "      <td>NaN</td>\n",
       "      <td>2019-02-08</td>\n",
       "      <td>NaN</td>\n",
       "    </tr>\n",
       "    <tr>\n",
       "      <th>4</th>\n",
       "      <td>14</td>\n",
       "      <td>NaN</td>\n",
       "      <td>What is your favorite lunch meal?</td>\n",
       "      <td>2019-02-07</td>\n",
       "      <td>2019-02-07</td>\n",
       "      <td>2019-02-07</td>\n",
       "      <td>2019-02-09</td>\n",
       "      <td>Expedite</td>\n",
       "      <td>D</td>\n",
       "      <td>NaT</td>\n",
       "      <td>NaN</td>\n",
       "      <td>2019-02-09</td>\n",
       "      <td>NaN</td>\n",
       "    </tr>\n",
       "  </tbody>\n",
       "</table>\n",
       "</div>"
      ],
      "text/plain": [
       "   ID  Link                                      Name    Backlog       Next  \\\n",
       "0   6   NaN    What is the longest you've been awake? 2019-02-07 2019-02-07   \n",
       "1  11   NaN  What are your favorite hot dog toppings? 2019-02-08 2019-02-08   \n",
       "2  17   NaN              Where did you get your name? 2019-02-08 2019-02-08   \n",
       "3  20   NaN                    Have you ever fainted? 2019-02-08 2019-02-08   \n",
       "4  14   NaN         What is your favorite lunch meal? 2019-02-07 2019-02-07   \n",
       "\n",
       "  InProgress       Done         CoS WIT Deadline  WaitTime    Deleted  Labels  \n",
       "0 2019-02-07 2019-02-08  Intangible   V      NaT       NaN        NaT     NaN  \n",
       "1 2019-02-08 2019-02-08  Intangible   V      NaT       NaN        NaT     NaN  \n",
       "2 2019-02-08 2019-02-08    Standard   T      NaT       NaN        NaT     NaN  \n",
       "3 2019-02-08 2019-02-08    Standard   D      NaT       NaN 2019-02-08     NaN  \n",
       "4 2019-02-07 2019-02-09    Expedite   D      NaT       NaN 2019-02-09     NaN  "
      ]
     },
     "execution_count": 304,
     "metadata": {},
     "output_type": "execute_result"
    }
   ],
   "source": [
    "activities_df.head(5)"
   ]
  },
  {
   "cell_type": "code",
   "execution_count": null,
   "metadata": {},
   "outputs": [],
   "source": []
  },
  {
   "cell_type": "code",
   "execution_count": 305,
   "metadata": {},
   "outputs": [],
   "source": [
    "#AAMfP['DaysIn_Backlog']=AAMfP.apply(lambda x: (x.Next-x.Backlog).days if (x.Next is not pd.NaT) else (pd.Timestamp('today').date()-x.Next).days, axis=1)"
   ]
  },
  {
   "cell_type": "code",
   "execution_count": 306,
   "metadata": {},
   "outputs": [],
   "source": [
    "def flowtime(next_state,done_state):\n",
    "    if (done_state is not pd.NaT) and (next_state is not pd.NaT):\n",
    "        return (done_state-next_state + pd.to_timedelta(1, unit='D') ).days \n",
    "    else:\n",
    "        return None\n",
    "    \n",
    "def age(next_state,done_state):\n",
    "    if (done_state is pd.NaT) and (next_state is not pd.NaT):\n",
    "        return (pd.Timestamp('today')-next_state + pd.to_timedelta(1, unit='D') ).days \n",
    "    else:\n",
    "        return None\n",
    "\n",
    "def days_in_state(first_state,next_state):\n",
    "    if (first_state is not pd.NaT) and (next_state is not pd.NaT):\n",
    "        return (next_state-first_state).days\n",
    "    elif (next_state is pd.NaT) and (first_state is not pd.NaT):\n",
    "        return (pd.Timestamp('today')-first_state + pd.to_timedelta(1, unit='D')).days\n",
    "    else:\n",
    "        return None\n",
    "\n",
    "def days_in_WIP_state(first_state,next_state):\n",
    "    if (first_state is not pd.NaT) and (next_state is not pd.NaT):\n",
    "        return (next_state-first_state).days\n",
    "    elif (next_state is pd.NaT) and (first_state is not pd.NaT):\n",
    "        return None\n",
    "    else:\n",
    "        return None\n",
    "        "
   ]
  },
  {
   "cell_type": "code",
   "execution_count": 307,
   "metadata": {},
   "outputs": [],
   "source": [
    "#Make a COPY vs creating a variable that references of the activities_df columns.\n",
    "metrics_df=activities_df.filter(['ID','Name'], axis=1) "
   ]
  },
  {
   "cell_type": "markdown",
   "metadata": {},
   "source": [
    "## Calculate days of issue in state."
   ]
  },
  {
   "cell_type": "code",
   "execution_count": 308,
   "metadata": {},
   "outputs": [],
   "source": [
    "data=[]\n",
    "for row in activities_df[['ID']+workflow_cycle+removed_state].itertuples():\n",
    "    ID=getattr(row, \"ID\")\n",
    "    #print(getattr(row, \"Backlog\"))\n",
    "    #print(getattr(row, \"Next\"))\n",
    "    #print(getattr(row, \"InProgress\"))\n",
    "    #print(getattr(row, \"Done\"))\n",
    "    break_flag = False\n",
    "    for i in range(0,len(workflow_cycle)-1):\n",
    "        #print(workflow_cycle[i],workflow_cycle[i+1])\n",
    "        first_state=getattr(row,workflow_cycle[i])\n",
    "        next_state=getattr(row,workflow_cycle[i+1])\n",
    "        days = days_in_state(first_state,next_state)\n",
    "        #print(f\"{ID}, {first_state} {workflow_cycle[i]}   {next_state}  {workflow_cycle[i+1]}   {days}\")\n",
    "        if next_state is pd.NaT:\n",
    "            next_state = pd.Timestamp('today')\n",
    "            break_flag = True\n",
    "        data.append(dict({'ID': ID,\n",
    "                  workflow_cycle[i]: days,\n",
    "                  }))\n",
    "state_ages_df = pd.DataFrame(data)"
   ]
  },
  {
   "cell_type": "code",
   "execution_count": 309,
   "metadata": {},
   "outputs": [],
   "source": [
    "state_ages_df=state_ages_df.groupby(['ID']).last()"
   ]
  },
  {
   "cell_type": "code",
   "execution_count": 310,
   "metadata": {},
   "outputs": [
    {
     "data": {
      "text/html": [
       "<div>\n",
       "<style scoped>\n",
       "    .dataframe tbody tr th:only-of-type {\n",
       "        vertical-align: middle;\n",
       "    }\n",
       "\n",
       "    .dataframe tbody tr th {\n",
       "        vertical-align: top;\n",
       "    }\n",
       "\n",
       "    .dataframe thead th {\n",
       "        text-align: right;\n",
       "    }\n",
       "</style>\n",
       "<table border=\"1\" class=\"dataframe\">\n",
       "  <thead>\n",
       "    <tr style=\"text-align: right;\">\n",
       "      <th></th>\n",
       "      <th>Backlog</th>\n",
       "      <th>InProgress</th>\n",
       "      <th>Next</th>\n",
       "    </tr>\n",
       "    <tr>\n",
       "      <th>ID</th>\n",
       "      <th></th>\n",
       "      <th></th>\n",
       "      <th></th>\n",
       "    </tr>\n",
       "  </thead>\n",
       "  <tbody>\n",
       "    <tr>\n",
       "      <th>1</th>\n",
       "      <td>15.0</td>\n",
       "      <td>0.0</td>\n",
       "      <td>0.0</td>\n",
       "    </tr>\n",
       "    <tr>\n",
       "      <th>2</th>\n",
       "      <td>1.0</td>\n",
       "      <td>0.0</td>\n",
       "      <td>0.0</td>\n",
       "    </tr>\n",
       "    <tr>\n",
       "      <th>3</th>\n",
       "      <td>1.0</td>\n",
       "      <td>0.0</td>\n",
       "      <td>0.0</td>\n",
       "    </tr>\n",
       "    <tr>\n",
       "      <th>4</th>\n",
       "      <td>0.0</td>\n",
       "      <td>0.0</td>\n",
       "      <td>0.0</td>\n",
       "    </tr>\n",
       "  </tbody>\n",
       "</table>\n",
       "</div>"
      ],
      "text/plain": [
       "    Backlog  InProgress  Next\n",
       "ID                           \n",
       "1      15.0         0.0   0.0\n",
       "2       1.0         0.0   0.0\n",
       "3       1.0         0.0   0.0\n",
       "4       0.0         0.0   0.0"
      ]
     },
     "execution_count": 310,
     "metadata": {},
     "output_type": "execute_result"
    }
   ],
   "source": [
    "state_ages_df.head(4)"
   ]
  },
  {
   "cell_type": "code",
   "execution_count": 311,
   "metadata": {},
   "outputs": [],
   "source": [
    "for state_column in workflow_cycle[:-1]:\n",
    "    if state_column not in state_ages_df:\n",
    "        state_ages_df[state_column]=pd.NaA\n",
    "        print(f'Added {state_column}')"
   ]
  },
  {
   "cell_type": "code",
   "execution_count": 312,
   "metadata": {},
   "outputs": [],
   "source": [
    "# Make sure the column sequence is in the order specified by workflow state cycle\n",
    "state_ages_df=state_ages_df[workflow_cycle[:-1]]"
   ]
  },
  {
   "cell_type": "code",
   "execution_count": 313,
   "metadata": {},
   "outputs": [
    {
     "data": {
      "text/html": [
       "<div>\n",
       "<style scoped>\n",
       "    .dataframe tbody tr th:only-of-type {\n",
       "        vertical-align: middle;\n",
       "    }\n",
       "\n",
       "    .dataframe tbody tr th {\n",
       "        vertical-align: top;\n",
       "    }\n",
       "\n",
       "    .dataframe thead th {\n",
       "        text-align: right;\n",
       "    }\n",
       "</style>\n",
       "<table border=\"1\" class=\"dataframe\">\n",
       "  <thead>\n",
       "    <tr style=\"text-align: right;\">\n",
       "      <th></th>\n",
       "      <th>Backlog</th>\n",
       "      <th>Next</th>\n",
       "      <th>InProgress</th>\n",
       "    </tr>\n",
       "    <tr>\n",
       "      <th>ID</th>\n",
       "      <th></th>\n",
       "      <th></th>\n",
       "      <th></th>\n",
       "    </tr>\n",
       "  </thead>\n",
       "  <tbody>\n",
       "    <tr>\n",
       "      <th>1</th>\n",
       "      <td>15.0</td>\n",
       "      <td>0.0</td>\n",
       "      <td>0.0</td>\n",
       "    </tr>\n",
       "    <tr>\n",
       "      <th>2</th>\n",
       "      <td>1.0</td>\n",
       "      <td>0.0</td>\n",
       "      <td>0.0</td>\n",
       "    </tr>\n",
       "    <tr>\n",
       "      <th>3</th>\n",
       "      <td>1.0</td>\n",
       "      <td>0.0</td>\n",
       "      <td>0.0</td>\n",
       "    </tr>\n",
       "    <tr>\n",
       "      <th>4</th>\n",
       "      <td>0.0</td>\n",
       "      <td>0.0</td>\n",
       "      <td>0.0</td>\n",
       "    </tr>\n",
       "  </tbody>\n",
       "</table>\n",
       "</div>"
      ],
      "text/plain": [
       "    Backlog  Next  InProgress\n",
       "ID                           \n",
       "1      15.0   0.0         0.0\n",
       "2       1.0   0.0         0.0\n",
       "3       1.0   0.0         0.0\n",
       "4       0.0   0.0         0.0"
      ]
     },
     "execution_count": 313,
     "metadata": {},
     "output_type": "execute_result"
    }
   ],
   "source": [
    "state_ages_df.head(4)"
   ]
  },
  {
   "cell_type": "code",
   "execution_count": 314,
   "metadata": {},
   "outputs": [],
   "source": [
    "metrics_df=metrics_df.join(state_ages_df,on='ID', how='left', sort=False)"
   ]
  },
  {
   "cell_type": "markdown",
   "metadata": {},
   "source": [
    "## Get the Done date for each issue"
   ]
  },
  {
   "cell_type": "code",
   "execution_count": 315,
   "metadata": {},
   "outputs": [],
   "source": [
    "metrics_df=metrics_df.join(activities_df[['ID',finished_state]].set_index('ID'),on='ID', how='left', sort=False)"
   ]
  },
  {
   "cell_type": "code",
   "execution_count": 316,
   "metadata": {},
   "outputs": [
    {
     "data": {
      "text/html": [
       "<div>\n",
       "<style scoped>\n",
       "    .dataframe tbody tr th:only-of-type {\n",
       "        vertical-align: middle;\n",
       "    }\n",
       "\n",
       "    .dataframe tbody tr th {\n",
       "        vertical-align: top;\n",
       "    }\n",
       "\n",
       "    .dataframe thead th {\n",
       "        text-align: right;\n",
       "    }\n",
       "</style>\n",
       "<table border=\"1\" class=\"dataframe\">\n",
       "  <thead>\n",
       "    <tr style=\"text-align: right;\">\n",
       "      <th></th>\n",
       "      <th>ID</th>\n",
       "      <th>Name</th>\n",
       "      <th>Backlog</th>\n",
       "      <th>Next</th>\n",
       "      <th>InProgress</th>\n",
       "      <th>Done</th>\n",
       "    </tr>\n",
       "  </thead>\n",
       "  <tbody>\n",
       "    <tr>\n",
       "      <th>0</th>\n",
       "      <td>6</td>\n",
       "      <td>What is the longest you've been awake?</td>\n",
       "      <td>0.0</td>\n",
       "      <td>0.0</td>\n",
       "      <td>1.0</td>\n",
       "      <td>2019-02-08</td>\n",
       "    </tr>\n",
       "    <tr>\n",
       "      <th>1</th>\n",
       "      <td>11</td>\n",
       "      <td>What are your favorite hot dog toppings?</td>\n",
       "      <td>0.0</td>\n",
       "      <td>0.0</td>\n",
       "      <td>0.0</td>\n",
       "      <td>2019-02-08</td>\n",
       "    </tr>\n",
       "    <tr>\n",
       "      <th>2</th>\n",
       "      <td>17</td>\n",
       "      <td>Where did you get your name?</td>\n",
       "      <td>0.0</td>\n",
       "      <td>0.0</td>\n",
       "      <td>0.0</td>\n",
       "      <td>2019-02-08</td>\n",
       "    </tr>\n",
       "  </tbody>\n",
       "</table>\n",
       "</div>"
      ],
      "text/plain": [
       "   ID                                      Name  Backlog  Next  InProgress  \\\n",
       "0   6    What is the longest you've been awake?      0.0   0.0         1.0   \n",
       "1  11  What are your favorite hot dog toppings?      0.0   0.0         0.0   \n",
       "2  17              Where did you get your name?      0.0   0.0         0.0   \n",
       "\n",
       "        Done  \n",
       "0 2019-02-08  \n",
       "1 2019-02-08  \n",
       "2 2019-02-08  "
      ]
     },
     "execution_count": 316,
     "metadata": {},
     "output_type": "execute_result"
    }
   ],
   "source": [
    "metrics_df.head(3)"
   ]
  },
  {
   "cell_type": "code",
   "execution_count": 317,
   "metadata": {},
   "outputs": [],
   "source": [
    "metrics_df['Age']=activities_df.apply(lambda row: age(row[started_state],row[finished_state]), axis=1)"
   ]
  },
  {
   "cell_type": "code",
   "execution_count": 318,
   "metadata": {},
   "outputs": [],
   "source": [
    "# Apply a user defined function to each row in Dataframe\n",
    "metrics_df['FT']=activities_df.apply(lambda row: flowtime(row[started_state],row[finished_state]), axis=1)"
   ]
  },
  {
   "cell_type": "code",
   "execution_count": 319,
   "metadata": {},
   "outputs": [],
   "source": [
    "metrics_df['mFT'] = metrics_df['FT'].astype(float).expanding(min_periods=1).mean().round()"
   ]
  },
  {
   "cell_type": "code",
   "execution_count": 320,
   "metadata": {},
   "outputs": [],
   "source": [
    "metrics_df['50'] = metrics_df['FT'].astype(float).expanding(min_periods=1).apply(lambda x: round(np.nanpercentile(x, 50)),raw=False)"
   ]
  },
  {
   "cell_type": "code",
   "execution_count": 321,
   "metadata": {},
   "outputs": [],
   "source": [
    "metrics_df['70'] = metrics_df['FT'].astype(float).expanding(min_periods=1).apply(lambda x: round(np.nanpercentile(x, 70)),raw=False)"
   ]
  },
  {
   "cell_type": "code",
   "execution_count": 322,
   "metadata": {},
   "outputs": [],
   "source": [
    "metrics_df['85'] = metrics_df['FT'].astype(float).expanding(min_periods=1).apply(lambda x: round(np.nanpercentile(x, 85)),raw=False)"
   ]
  },
  {
   "cell_type": "code",
   "execution_count": 323,
   "metadata": {},
   "outputs": [],
   "source": [
    "metrics_df['95'] = metrics_df['FT'].astype(float).expanding(min_periods=1).apply(lambda x: round(np.nanpercentile(x, 95)),raw=False)"
   ]
  },
  {
   "cell_type": "code",
   "execution_count": 324,
   "metadata": {},
   "outputs": [],
   "source": [
    "# Experiment with series to see why percentile calc does not match libreoffice version\n",
    "#myarray = np.array(AAMfP['LT'].iloc[:2])\n",
    "#myarray\n",
    "#round(np.nanpercentile(myarray, 50))"
   ]
  },
  {
   "cell_type": "code",
   "execution_count": 325,
   "metadata": {},
   "outputs": [],
   "source": [
    "metrics_df=metrics_df.join(activities_df[['ID','WaitTime']].set_index('ID'),on='ID', how='left', sort=False)"
   ]
  },
  {
   "cell_type": "markdown",
   "metadata": {},
   "source": [
    "## Impact Calculations"
   ]
  },
  {
   "cell_type": "code",
   "execution_count": 329,
   "metadata": {},
   "outputs": [],
   "source": [
    "metrics_df['Impact']=metrics_df['WaitTime'].astype(float).expanding(min_periods=1).apply(lambda x: np.nansum(x)/len(x),raw=False)"
   ]
  },
  {
   "cell_type": "code",
   "execution_count": 330,
   "metadata": {},
   "outputs": [],
   "source": [
    "# Replace NaN with 0 \n",
    "metrics_df.loc[metrics_df.Impact.isnull(),['Impact']]=0"
   ]
  },
  {
   "cell_type": "code",
   "execution_count": 331,
   "metadata": {},
   "outputs": [],
   "source": [
    "# Only keep data for Done rows \n",
    "metrics_df.loc[metrics_df[finished_state].isnull(),['Impact']]=np.NaN"
   ]
  },
  {
   "cell_type": "markdown",
   "metadata": {},
   "source": [
    "## Likelihood calculations"
   ]
  },
  {
   "cell_type": "code",
   "execution_count": 332,
   "metadata": {},
   "outputs": [],
   "source": [
    "metrics_df['Likelihood']=metrics_df['WaitTime'].astype(float).expanding(min_periods=1).apply(lambda x:  np.count_nonzero(~np.isnan(x))/len(x),raw=False)"
   ]
  },
  {
   "cell_type": "code",
   "execution_count": 333,
   "metadata": {},
   "outputs": [],
   "source": [
    "# Replace NaN with 0 \n",
    "metrics_df.loc[metrics_df.Likelihood.isnull(),['Likelihood']]=0\n",
    "# Only keep data for Done rows \n",
    "metrics_df.loc[metrics_df[finished_state].isnull(),['Likelihood']]=np.NaN"
   ]
  },
  {
   "cell_type": "markdown",
   "metadata": {},
   "source": [
    "## Risk calculations"
   ]
  },
  {
   "cell_type": "code",
   "execution_count": 334,
   "metadata": {},
   "outputs": [],
   "source": [
    "metrics_df['Risk']=metrics_df['Impact']*metrics_df['Likelihood']"
   ]
  },
  {
   "cell_type": "markdown",
   "metadata": {},
   "source": [
    "## FE (or Flow Efficiency)\n",
    "\n",
    "FE (or Flow Efficiency) is computed, for each completed activity, as the total number of blocker days over the lead time. e.g. If an activity has been completed in 13 days but it has been blocked for 10 days, its FE is 23,08%;"
   ]
  },
  {
   "cell_type": "code",
   "execution_count": 335,
   "metadata": {},
   "outputs": [],
   "source": [
    "metrics_df['FE']=(metrics_df['FT']-metrics_df['WaitTime'])/metrics_df['FT']"
   ]
  },
  {
   "cell_type": "code",
   "execution_count": 336,
   "metadata": {},
   "outputs": [],
   "source": [
    "# Replace NaN with 100% \n",
    "metrics_df.loc[metrics_df.FE.isnull(),['FE']]=1\n",
    "# Only keep data for Done rows \n",
    "metrics_df.loc[metrics_df[finished_state].isnull(),['FE']]=np.NaN"
   ]
  },
  {
   "cell_type": "code",
   "execution_count": 337,
   "metadata": {},
   "outputs": [],
   "source": [
    "metrics_df['mFE'] = metrics_df['FE'].astype(float).expanding(min_periods=1).mean()\n",
    "# Only keep data for Done rows \n",
    "metrics_df.loc[metrics_df[finished_state].isnull(),['mFE']]=np.NaN"
   ]
  },
  {
   "cell_type": "markdown",
   "metadata": {},
   "source": [
    "# Work on the DATA sheet\n",
    "\n",
    "## Count the daily number of activities for each workflow cycle state(column) (Backlog, Next, In-progress, Done),"
   ]
  },
  {
   "cell_type": "markdown",
   "metadata": {},
   "source": [
    "## Create data structure for issue ID, Date and State\n",
    "\n",
    "Enables one to count the number of issues in a given state for a given date."
   ]
  },
  {
   "cell_type": "code",
   "execution_count": 338,
   "metadata": {},
   "outputs": [],
   "source": [
    "data=[]\n",
    "for row in activities_df[['ID']+workflow_cycle+removed_state].itertuples():\n",
    "    ID=getattr(row, \"ID\")\n",
    "    break_flag = False\n",
    "    for i in range(0,len(workflow_cycle)-1):\n",
    "        #print(workflow_cycle[i],workflow_cycle[i+1])\n",
    "        first_state=getattr(row,workflow_cycle[i])\n",
    "        next_state=getattr(row,workflow_cycle[i+1])\n",
    "        if next_state is pd.NaT:\n",
    "            next_state = pd.Timestamp('today')\n",
    "            break_flag = True\n",
    "        dates=(pd.date_range(start=first_state, end=next_state, freq='D').tolist())\n",
    "        #print(ID,first_state,next_state)\n",
    "        \n",
    "        for day in dates:\n",
    "            #print(day,ID,workflow_cycle[i])\n",
    "            data.append(dict({'Date': day,\n",
    "                              'ID': ID,\n",
    "                              'state': workflow_cycle[i],\n",
    "                              }))\n",
    "        \n",
    "               \n",
    "        if break_flag:\n",
    "            break\n",
    "    # Need a section to calculate entries for all issues that are done with dates from when done to now.         \n",
    "    DoneState = getattr(row,workflow_cycle[-1]) # Assume that the final DONE workflow cycle state is located in right most call of array.\n",
    "    if DoneState is not pd.NaT:\n",
    "        #Issue in \"DONE\"\n",
    "        first_state=DoneState\n",
    "        next_state=pd.Timestamp('today') + pd.to_timedelta(1, unit='D')\n",
    "        dates=(pd.date_range(start=first_state, end=next_state, freq='D').tolist())\n",
    "        for day in dates:\n",
    "            #print(day,ID,workflow_cycle[i])\n",
    "            data.append(dict({'Date': day,\n",
    "                              'ID': ID,\n",
    "                              'state': workflow_cycle[-1],\n",
    "                              }))\n",
    "        \n",
    "        \n",
    "statehistory_df = pd.DataFrame(data)"
   ]
  },
  {
   "cell_type": "code",
   "execution_count": 339,
   "metadata": {},
   "outputs": [
    {
     "data": {
      "text/html": [
       "<div>\n",
       "<style scoped>\n",
       "    .dataframe tbody tr th:only-of-type {\n",
       "        vertical-align: middle;\n",
       "    }\n",
       "\n",
       "    .dataframe tbody tr th {\n",
       "        vertical-align: top;\n",
       "    }\n",
       "\n",
       "    .dataframe thead th {\n",
       "        text-align: right;\n",
       "    }\n",
       "</style>\n",
       "<table border=\"1\" class=\"dataframe\">\n",
       "  <thead>\n",
       "    <tr style=\"text-align: right;\">\n",
       "      <th></th>\n",
       "      <th>Date</th>\n",
       "      <th>ID</th>\n",
       "      <th>state</th>\n",
       "    </tr>\n",
       "  </thead>\n",
       "  <tbody>\n",
       "    <tr>\n",
       "      <th>0</th>\n",
       "      <td>2019-02-07</td>\n",
       "      <td>6</td>\n",
       "      <td>Backlog</td>\n",
       "    </tr>\n",
       "    <tr>\n",
       "      <th>1</th>\n",
       "      <td>2019-02-07</td>\n",
       "      <td>6</td>\n",
       "      <td>Next</td>\n",
       "    </tr>\n",
       "    <tr>\n",
       "      <th>2</th>\n",
       "      <td>2019-02-07</td>\n",
       "      <td>6</td>\n",
       "      <td>InProgress</td>\n",
       "    </tr>\n",
       "    <tr>\n",
       "      <th>3</th>\n",
       "      <td>2019-02-08</td>\n",
       "      <td>6</td>\n",
       "      <td>InProgress</td>\n",
       "    </tr>\n",
       "    <tr>\n",
       "      <th>4</th>\n",
       "      <td>2019-02-08</td>\n",
       "      <td>6</td>\n",
       "      <td>Done</td>\n",
       "    </tr>\n",
       "    <tr>\n",
       "      <th>5</th>\n",
       "      <td>2019-02-09</td>\n",
       "      <td>6</td>\n",
       "      <td>Done</td>\n",
       "    </tr>\n",
       "    <tr>\n",
       "      <th>6</th>\n",
       "      <td>2019-02-10</td>\n",
       "      <td>6</td>\n",
       "      <td>Done</td>\n",
       "    </tr>\n",
       "    <tr>\n",
       "      <th>7</th>\n",
       "      <td>2019-02-11</td>\n",
       "      <td>6</td>\n",
       "      <td>Done</td>\n",
       "    </tr>\n",
       "    <tr>\n",
       "      <th>8</th>\n",
       "      <td>2019-02-12</td>\n",
       "      <td>6</td>\n",
       "      <td>Done</td>\n",
       "    </tr>\n",
       "    <tr>\n",
       "      <th>9</th>\n",
       "      <td>2019-02-13</td>\n",
       "      <td>6</td>\n",
       "      <td>Done</td>\n",
       "    </tr>\n",
       "  </tbody>\n",
       "</table>\n",
       "</div>"
      ],
      "text/plain": [
       "        Date  ID       state\n",
       "0 2019-02-07   6     Backlog\n",
       "1 2019-02-07   6        Next\n",
       "2 2019-02-07   6  InProgress\n",
       "3 2019-02-08   6  InProgress\n",
       "4 2019-02-08   6        Done\n",
       "5 2019-02-09   6        Done\n",
       "6 2019-02-10   6        Done\n",
       "7 2019-02-11   6        Done\n",
       "8 2019-02-12   6        Done\n",
       "9 2019-02-13   6        Done"
      ]
     },
     "execution_count": 339,
     "metadata": {},
     "output_type": "execute_result"
    }
   ],
   "source": [
    "statehistory_df.head(10)"
   ]
  },
  {
   "cell_type": "markdown",
   "metadata": {},
   "source": [
    "### Remove states on or after deleted date "
   ]
  },
  {
   "cell_type": "code",
   "execution_count": 340,
   "metadata": {},
   "outputs": [],
   "source": [
    "deleted_df=activities_df.loc[activities_df['Deleted'].notnull(),['ID','Deleted']]"
   ]
  },
  {
   "cell_type": "code",
   "execution_count": 341,
   "metadata": {},
   "outputs": [],
   "source": [
    "for row in deleted_df.itertuples():\n",
    "    ID=getattr(row,'ID')\n",
    "    DeletedDate=getattr(row,'Deleted')\n",
    "    statehistory_df=statehistory_df[~((statehistory_df.Date>=DeletedDate)  & (statehistory_df.ID==ID)) ] # statehistory_df.ID==ID & "
   ]
  },
  {
   "cell_type": "code",
   "execution_count": 342,
   "metadata": {},
   "outputs": [
    {
     "data": {
      "text/html": [
       "<div>\n",
       "<style scoped>\n",
       "    .dataframe tbody tr th:only-of-type {\n",
       "        vertical-align: middle;\n",
       "    }\n",
       "\n",
       "    .dataframe tbody tr th {\n",
       "        vertical-align: top;\n",
       "    }\n",
       "\n",
       "    .dataframe thead th {\n",
       "        text-align: right;\n",
       "    }\n",
       "</style>\n",
       "<table border=\"1\" class=\"dataframe\">\n",
       "  <thead>\n",
       "    <tr style=\"text-align: right;\">\n",
       "      <th></th>\n",
       "      <th>Date</th>\n",
       "      <th>ID</th>\n",
       "      <th>state</th>\n",
       "    </tr>\n",
       "  </thead>\n",
       "  <tbody>\n",
       "    <tr>\n",
       "      <th>0</th>\n",
       "      <td>2019-02-07</td>\n",
       "      <td>6</td>\n",
       "      <td>Backlog</td>\n",
       "    </tr>\n",
       "    <tr>\n",
       "      <th>1</th>\n",
       "      <td>2019-02-07</td>\n",
       "      <td>6</td>\n",
       "      <td>Next</td>\n",
       "    </tr>\n",
       "    <tr>\n",
       "      <th>2</th>\n",
       "      <td>2019-02-07</td>\n",
       "      <td>6</td>\n",
       "      <td>InProgress</td>\n",
       "    </tr>\n",
       "    <tr>\n",
       "      <th>3</th>\n",
       "      <td>2019-02-08</td>\n",
       "      <td>6</td>\n",
       "      <td>InProgress</td>\n",
       "    </tr>\n",
       "    <tr>\n",
       "      <th>4</th>\n",
       "      <td>2019-02-08</td>\n",
       "      <td>6</td>\n",
       "      <td>Done</td>\n",
       "    </tr>\n",
       "    <tr>\n",
       "      <th>5</th>\n",
       "      <td>2019-02-09</td>\n",
       "      <td>6</td>\n",
       "      <td>Done</td>\n",
       "    </tr>\n",
       "    <tr>\n",
       "      <th>6</th>\n",
       "      <td>2019-02-10</td>\n",
       "      <td>6</td>\n",
       "      <td>Done</td>\n",
       "    </tr>\n",
       "    <tr>\n",
       "      <th>7</th>\n",
       "      <td>2019-02-11</td>\n",
       "      <td>6</td>\n",
       "      <td>Done</td>\n",
       "    </tr>\n",
       "    <tr>\n",
       "      <th>8</th>\n",
       "      <td>2019-02-12</td>\n",
       "      <td>6</td>\n",
       "      <td>Done</td>\n",
       "    </tr>\n",
       "    <tr>\n",
       "      <th>9</th>\n",
       "      <td>2019-02-13</td>\n",
       "      <td>6</td>\n",
       "      <td>Done</td>\n",
       "    </tr>\n",
       "  </tbody>\n",
       "</table>\n",
       "</div>"
      ],
      "text/plain": [
       "        Date  ID       state\n",
       "0 2019-02-07   6     Backlog\n",
       "1 2019-02-07   6        Next\n",
       "2 2019-02-07   6  InProgress\n",
       "3 2019-02-08   6  InProgress\n",
       "4 2019-02-08   6        Done\n",
       "5 2019-02-09   6        Done\n",
       "6 2019-02-10   6        Done\n",
       "7 2019-02-11   6        Done\n",
       "8 2019-02-12   6        Done\n",
       "9 2019-02-13   6        Done"
      ]
     },
     "execution_count": 342,
     "metadata": {},
     "output_type": "execute_result"
    }
   ],
   "source": [
    "statehistory_df.head(10)"
   ]
  },
  {
   "cell_type": "code",
   "execution_count": 343,
   "metadata": {},
   "outputs": [],
   "source": [
    "# When multiple state transitions happen in a day for an issue, keep the last one. Do not want to double count the sane issue in multiple states in the same day. \n",
    "statehistory_df=statehistory_df.groupby(['Date','ID']).last()"
   ]
  },
  {
   "cell_type": "code",
   "execution_count": 344,
   "metadata": {},
   "outputs": [
    {
     "data": {
      "text/html": [
       "<div>\n",
       "<style scoped>\n",
       "    .dataframe tbody tr th:only-of-type {\n",
       "        vertical-align: middle;\n",
       "    }\n",
       "\n",
       "    .dataframe tbody tr th {\n",
       "        vertical-align: top;\n",
       "    }\n",
       "\n",
       "    .dataframe thead th {\n",
       "        text-align: right;\n",
       "    }\n",
       "</style>\n",
       "<table border=\"1\" class=\"dataframe\">\n",
       "  <thead>\n",
       "    <tr style=\"text-align: right;\">\n",
       "      <th></th>\n",
       "      <th></th>\n",
       "      <th>state</th>\n",
       "    </tr>\n",
       "    <tr>\n",
       "      <th>Date</th>\n",
       "      <th>ID</th>\n",
       "      <th></th>\n",
       "    </tr>\n",
       "  </thead>\n",
       "  <tbody>\n",
       "    <tr>\n",
       "      <th rowspan=\"3\" valign=\"top\">2019-02-07</th>\n",
       "      <th>6</th>\n",
       "      <td>InProgress</td>\n",
       "    </tr>\n",
       "    <tr>\n",
       "      <th>12</th>\n",
       "      <td>Next</td>\n",
       "    </tr>\n",
       "    <tr>\n",
       "      <th>14</th>\n",
       "      <td>InProgress</td>\n",
       "    </tr>\n",
       "    <tr>\n",
       "      <th rowspan=\"7\" valign=\"top\">2019-02-08</th>\n",
       "      <th>1</th>\n",
       "      <td>Backlog</td>\n",
       "    </tr>\n",
       "    <tr>\n",
       "      <th>6</th>\n",
       "      <td>Done</td>\n",
       "    </tr>\n",
       "    <tr>\n",
       "      <th>8</th>\n",
       "      <td>Next</td>\n",
       "    </tr>\n",
       "    <tr>\n",
       "      <th>9</th>\n",
       "      <td>InProgress</td>\n",
       "    </tr>\n",
       "    <tr>\n",
       "      <th>11</th>\n",
       "      <td>Done</td>\n",
       "    </tr>\n",
       "    <tr>\n",
       "      <th>12</th>\n",
       "      <td>Next</td>\n",
       "    </tr>\n",
       "    <tr>\n",
       "      <th>13</th>\n",
       "      <td>Next</td>\n",
       "    </tr>\n",
       "  </tbody>\n",
       "</table>\n",
       "</div>"
      ],
      "text/plain": [
       "                    state\n",
       "Date       ID            \n",
       "2019-02-07 6   InProgress\n",
       "           12        Next\n",
       "           14  InProgress\n",
       "2019-02-08 1      Backlog\n",
       "           6         Done\n",
       "           8         Next\n",
       "           9   InProgress\n",
       "           11        Done\n",
       "           12        Next\n",
       "           13        Next"
      ]
     },
     "execution_count": 344,
     "metadata": {},
     "output_type": "execute_result"
    }
   ],
   "source": [
    "statehistory_df.head(10)"
   ]
  },
  {
   "cell_type": "code",
   "execution_count": 345,
   "metadata": {},
   "outputs": [],
   "source": [
    "#count the number of issues in a given state every day\n",
    "statehistory_df=statehistory_df.groupby(['Date','state']).size().reset_index(name='Count')"
   ]
  },
  {
   "cell_type": "code",
   "execution_count": 346,
   "metadata": {},
   "outputs": [],
   "source": [
    "data_df=pd.pivot_table(statehistory_df, values = 'Count', index=['Date'], columns = 'state').reset_index()"
   ]
  },
  {
   "cell_type": "code",
   "execution_count": 347,
   "metadata": {},
   "outputs": [],
   "source": [
    "data_df=data_df[['Date']+workflow_cycle] #Sort the columns into workflow sequence "
   ]
  },
  {
   "cell_type": "code",
   "execution_count": 348,
   "metadata": {},
   "outputs": [],
   "source": [
    "# Add an additional zero row at the top of table\n",
    "data_series=activities_df[workflow_cycle].min()\n",
    "from_date=data_series.min() - pd.to_timedelta(1, unit='D')\n",
    "# new line\n",
    "line = pd.DataFrame({'Date': from_date }, index=[0])\n",
    "# concatenate two dataframe\n",
    "data_df = pd.concat([line,data_df.iloc[:]],sort=False).reset_index(drop=True)"
   ]
  },
  {
   "cell_type": "code",
   "execution_count": 349,
   "metadata": {},
   "outputs": [],
   "source": [
    " # Replace NaN's with 0 (Zero)  for all columns.   axis : {0, 1, ‘index’, ‘columns’}\n",
    "data_df.fillna(value=0, axis=1, inplace=True)"
   ]
  },
  {
   "cell_type": "code",
   "execution_count": 350,
   "metadata": {},
   "outputs": [
    {
     "data": {
      "text/html": [
       "<div>\n",
       "<style scoped>\n",
       "    .dataframe tbody tr th:only-of-type {\n",
       "        vertical-align: middle;\n",
       "    }\n",
       "\n",
       "    .dataframe tbody tr th {\n",
       "        vertical-align: top;\n",
       "    }\n",
       "\n",
       "    .dataframe thead th {\n",
       "        text-align: right;\n",
       "    }\n",
       "</style>\n",
       "<table border=\"1\" class=\"dataframe\">\n",
       "  <thead>\n",
       "    <tr style=\"text-align: right;\">\n",
       "      <th></th>\n",
       "      <th>Date</th>\n",
       "      <th>Backlog</th>\n",
       "      <th>Next</th>\n",
       "      <th>InProgress</th>\n",
       "      <th>Done</th>\n",
       "    </tr>\n",
       "  </thead>\n",
       "  <tbody>\n",
       "    <tr>\n",
       "      <th>0</th>\n",
       "      <td>2019-02-06</td>\n",
       "      <td>0.0</td>\n",
       "      <td>0.0</td>\n",
       "      <td>0.0</td>\n",
       "      <td>0.0</td>\n",
       "    </tr>\n",
       "    <tr>\n",
       "      <th>1</th>\n",
       "      <td>2019-02-07</td>\n",
       "      <td>0.0</td>\n",
       "      <td>1.0</td>\n",
       "      <td>2.0</td>\n",
       "      <td>0.0</td>\n",
       "    </tr>\n",
       "    <tr>\n",
       "      <th>2</th>\n",
       "      <td>2019-02-08</td>\n",
       "      <td>1.0</td>\n",
       "      <td>3.0</td>\n",
       "      <td>3.0</td>\n",
       "      <td>3.0</td>\n",
       "    </tr>\n",
       "    <tr>\n",
       "      <th>3</th>\n",
       "      <td>2019-02-09</td>\n",
       "      <td>2.0</td>\n",
       "      <td>1.0</td>\n",
       "      <td>5.0</td>\n",
       "      <td>6.0</td>\n",
       "    </tr>\n",
       "    <tr>\n",
       "      <th>4</th>\n",
       "      <td>2019-02-10</td>\n",
       "      <td>4.0</td>\n",
       "      <td>1.0</td>\n",
       "      <td>6.0</td>\n",
       "      <td>9.0</td>\n",
       "    </tr>\n",
       "    <tr>\n",
       "      <th>5</th>\n",
       "      <td>2019-02-11</td>\n",
       "      <td>2.0</td>\n",
       "      <td>1.0</td>\n",
       "      <td>7.0</td>\n",
       "      <td>12.0</td>\n",
       "    </tr>\n",
       "    <tr>\n",
       "      <th>6</th>\n",
       "      <td>2019-02-12</td>\n",
       "      <td>2.0</td>\n",
       "      <td>1.0</td>\n",
       "      <td>7.0</td>\n",
       "      <td>12.0</td>\n",
       "    </tr>\n",
       "    <tr>\n",
       "      <th>7</th>\n",
       "      <td>2019-02-13</td>\n",
       "      <td>2.0</td>\n",
       "      <td>1.0</td>\n",
       "      <td>7.0</td>\n",
       "      <td>12.0</td>\n",
       "    </tr>\n",
       "    <tr>\n",
       "      <th>8</th>\n",
       "      <td>2019-02-14</td>\n",
       "      <td>2.0</td>\n",
       "      <td>1.0</td>\n",
       "      <td>7.0</td>\n",
       "      <td>12.0</td>\n",
       "    </tr>\n",
       "    <tr>\n",
       "      <th>9</th>\n",
       "      <td>2019-02-15</td>\n",
       "      <td>2.0</td>\n",
       "      <td>1.0</td>\n",
       "      <td>7.0</td>\n",
       "      <td>12.0</td>\n",
       "    </tr>\n",
       "  </tbody>\n",
       "</table>\n",
       "</div>"
      ],
      "text/plain": [
       "        Date  Backlog  Next  InProgress  Done\n",
       "0 2019-02-06      0.0   0.0         0.0   0.0\n",
       "1 2019-02-07      0.0   1.0         2.0   0.0\n",
       "2 2019-02-08      1.0   3.0         3.0   3.0\n",
       "3 2019-02-09      2.0   1.0         5.0   6.0\n",
       "4 2019-02-10      4.0   1.0         6.0   9.0\n",
       "5 2019-02-11      2.0   1.0         7.0  12.0\n",
       "6 2019-02-12      2.0   1.0         7.0  12.0\n",
       "7 2019-02-13      2.0   1.0         7.0  12.0\n",
       "8 2019-02-14      2.0   1.0         7.0  12.0\n",
       "9 2019-02-15      2.0   1.0         7.0  12.0"
      ]
     },
     "execution_count": 350,
     "metadata": {},
     "output_type": "execute_result"
    }
   ],
   "source": [
    "data_df.head(10)"
   ]
  },
  {
   "cell_type": "markdown",
   "metadata": {},
   "source": [
    "### Count the daily (cumulated) number of Deleted activities"
   ]
  },
  {
   "cell_type": "code",
   "execution_count": 351,
   "metadata": {},
   "outputs": [
    {
     "data": {
      "text/plain": [
       "0          NaT\n",
       "1          NaT\n",
       "2          NaT\n",
       "3   2019-02-08\n",
       "4   2019-02-09\n",
       "5   2019-02-09\n",
       "6          NaT\n",
       "7          NaT\n",
       "8          NaT\n",
       "9   2019-02-10\n",
       "Name: Deleted, dtype: datetime64[ns]"
      ]
     },
     "execution_count": 351,
     "metadata": {},
     "output_type": "execute_result"
    }
   ],
   "source": [
    "#Are these any deleted issues? Quick peak at the top of the Deleted column.\n",
    "activities_df['Deleted'].head(10)"
   ]
  },
  {
   "cell_type": "code",
   "execution_count": 352,
   "metadata": {},
   "outputs": [],
   "source": [
    "data_df['Deleted']=data_df.apply(lambda x: activities_df[activities_df.Deleted <= x.Date].shape[0] ,axis=1)"
   ]
  },
  {
   "cell_type": "code",
   "execution_count": 353,
   "metadata": {},
   "outputs": [
    {
     "data": {
      "text/html": [
       "<div>\n",
       "<style scoped>\n",
       "    .dataframe tbody tr th:only-of-type {\n",
       "        vertical-align: middle;\n",
       "    }\n",
       "\n",
       "    .dataframe tbody tr th {\n",
       "        vertical-align: top;\n",
       "    }\n",
       "\n",
       "    .dataframe thead th {\n",
       "        text-align: right;\n",
       "    }\n",
       "</style>\n",
       "<table border=\"1\" class=\"dataframe\">\n",
       "  <thead>\n",
       "    <tr style=\"text-align: right;\">\n",
       "      <th></th>\n",
       "      <th>Date</th>\n",
       "      <th>Backlog</th>\n",
       "      <th>Next</th>\n",
       "      <th>InProgress</th>\n",
       "      <th>Done</th>\n",
       "      <th>Deleted</th>\n",
       "    </tr>\n",
       "  </thead>\n",
       "  <tbody>\n",
       "    <tr>\n",
       "      <th>0</th>\n",
       "      <td>2019-02-06</td>\n",
       "      <td>0.0</td>\n",
       "      <td>0.0</td>\n",
       "      <td>0.0</td>\n",
       "      <td>0.0</td>\n",
       "      <td>0</td>\n",
       "    </tr>\n",
       "    <tr>\n",
       "      <th>1</th>\n",
       "      <td>2019-02-07</td>\n",
       "      <td>0.0</td>\n",
       "      <td>1.0</td>\n",
       "      <td>2.0</td>\n",
       "      <td>0.0</td>\n",
       "      <td>0</td>\n",
       "    </tr>\n",
       "    <tr>\n",
       "      <th>2</th>\n",
       "      <td>2019-02-08</td>\n",
       "      <td>1.0</td>\n",
       "      <td>3.0</td>\n",
       "      <td>3.0</td>\n",
       "      <td>3.0</td>\n",
       "      <td>1</td>\n",
       "    </tr>\n",
       "    <tr>\n",
       "      <th>3</th>\n",
       "      <td>2019-02-09</td>\n",
       "      <td>2.0</td>\n",
       "      <td>1.0</td>\n",
       "      <td>5.0</td>\n",
       "      <td>6.0</td>\n",
       "      <td>3</td>\n",
       "    </tr>\n",
       "    <tr>\n",
       "      <th>4</th>\n",
       "      <td>2019-02-10</td>\n",
       "      <td>4.0</td>\n",
       "      <td>1.0</td>\n",
       "      <td>6.0</td>\n",
       "      <td>9.0</td>\n",
       "      <td>4</td>\n",
       "    </tr>\n",
       "    <tr>\n",
       "      <th>5</th>\n",
       "      <td>2019-02-11</td>\n",
       "      <td>2.0</td>\n",
       "      <td>1.0</td>\n",
       "      <td>7.0</td>\n",
       "      <td>12.0</td>\n",
       "      <td>4</td>\n",
       "    </tr>\n",
       "    <tr>\n",
       "      <th>6</th>\n",
       "      <td>2019-02-12</td>\n",
       "      <td>2.0</td>\n",
       "      <td>1.0</td>\n",
       "      <td>7.0</td>\n",
       "      <td>12.0</td>\n",
       "      <td>4</td>\n",
       "    </tr>\n",
       "    <tr>\n",
       "      <th>7</th>\n",
       "      <td>2019-02-13</td>\n",
       "      <td>2.0</td>\n",
       "      <td>1.0</td>\n",
       "      <td>7.0</td>\n",
       "      <td>12.0</td>\n",
       "      <td>4</td>\n",
       "    </tr>\n",
       "    <tr>\n",
       "      <th>8</th>\n",
       "      <td>2019-02-14</td>\n",
       "      <td>2.0</td>\n",
       "      <td>1.0</td>\n",
       "      <td>7.0</td>\n",
       "      <td>12.0</td>\n",
       "      <td>4</td>\n",
       "    </tr>\n",
       "    <tr>\n",
       "      <th>9</th>\n",
       "      <td>2019-02-15</td>\n",
       "      <td>2.0</td>\n",
       "      <td>1.0</td>\n",
       "      <td>7.0</td>\n",
       "      <td>12.0</td>\n",
       "      <td>4</td>\n",
       "    </tr>\n",
       "  </tbody>\n",
       "</table>\n",
       "</div>"
      ],
      "text/plain": [
       "        Date  Backlog  Next  InProgress  Done  Deleted\n",
       "0 2019-02-06      0.0   0.0         0.0   0.0        0\n",
       "1 2019-02-07      0.0   1.0         2.0   0.0        0\n",
       "2 2019-02-08      1.0   3.0         3.0   3.0        1\n",
       "3 2019-02-09      2.0   1.0         5.0   6.0        3\n",
       "4 2019-02-10      4.0   1.0         6.0   9.0        4\n",
       "5 2019-02-11      2.0   1.0         7.0  12.0        4\n",
       "6 2019-02-12      2.0   1.0         7.0  12.0        4\n",
       "7 2019-02-13      2.0   1.0         7.0  12.0        4\n",
       "8 2019-02-14      2.0   1.0         7.0  12.0        4\n",
       "9 2019-02-15      2.0   1.0         7.0  12.0        4"
      ]
     },
     "execution_count": 353,
     "metadata": {},
     "output_type": "execute_result"
    }
   ],
   "source": [
    "data_df.head(10)"
   ]
  },
  {
   "cell_type": "markdown",
   "metadata": {},
   "source": [
    "## Set of actually cumulative daily data of activities for each workflow cucle state. (Backlog, Next, In-progress, Done);"
   ]
  },
  {
   "cell_type": "code",
   "execution_count": 354,
   "metadata": {},
   "outputs": [
    {
     "data": {
      "text/plain": [
       "['Backlog', 'Next', 'InProgress', 'Done']"
      ]
     },
     "execution_count": 354,
     "metadata": {},
     "output_type": "execute_result"
    }
   ],
   "source": [
    "workflow_cycle"
   ]
  },
  {
   "cell_type": "code",
   "execution_count": 355,
   "metadata": {},
   "outputs": [],
   "source": [
    "#Do the cumulative sum. Need to reverse order of cycle states\n",
    "cumsum_df=data_df[workflow_cycle[::-1]].cumsum(axis=1)[workflow_cycle]\n",
    "# Example of calculation df[df.columns[::-1]].cumsum(axis=1)[df.columns]\n",
    "# Using [::-1] to reverse a list"
   ]
  },
  {
   "cell_type": "code",
   "execution_count": 356,
   "metadata": {},
   "outputs": [
    {
     "data": {
      "text/html": [
       "<div>\n",
       "<style scoped>\n",
       "    .dataframe tbody tr th:only-of-type {\n",
       "        vertical-align: middle;\n",
       "    }\n",
       "\n",
       "    .dataframe tbody tr th {\n",
       "        vertical-align: top;\n",
       "    }\n",
       "\n",
       "    .dataframe thead th {\n",
       "        text-align: right;\n",
       "    }\n",
       "</style>\n",
       "<table border=\"1\" class=\"dataframe\">\n",
       "  <thead>\n",
       "    <tr style=\"text-align: right;\">\n",
       "      <th></th>\n",
       "      <th>Backlog</th>\n",
       "      <th>Next</th>\n",
       "      <th>InProgress</th>\n",
       "      <th>Done</th>\n",
       "    </tr>\n",
       "  </thead>\n",
       "  <tbody>\n",
       "    <tr>\n",
       "      <th>0</th>\n",
       "      <td>0.0</td>\n",
       "      <td>0.0</td>\n",
       "      <td>0.0</td>\n",
       "      <td>0.0</td>\n",
       "    </tr>\n",
       "    <tr>\n",
       "      <th>1</th>\n",
       "      <td>3.0</td>\n",
       "      <td>3.0</td>\n",
       "      <td>2.0</td>\n",
       "      <td>0.0</td>\n",
       "    </tr>\n",
       "    <tr>\n",
       "      <th>2</th>\n",
       "      <td>10.0</td>\n",
       "      <td>9.0</td>\n",
       "      <td>6.0</td>\n",
       "      <td>3.0</td>\n",
       "    </tr>\n",
       "    <tr>\n",
       "      <th>3</th>\n",
       "      <td>14.0</td>\n",
       "      <td>12.0</td>\n",
       "      <td>11.0</td>\n",
       "      <td>6.0</td>\n",
       "    </tr>\n",
       "    <tr>\n",
       "      <th>4</th>\n",
       "      <td>20.0</td>\n",
       "      <td>16.0</td>\n",
       "      <td>15.0</td>\n",
       "      <td>9.0</td>\n",
       "    </tr>\n",
       "  </tbody>\n",
       "</table>\n",
       "</div>"
      ],
      "text/plain": [
       "   Backlog  Next  InProgress  Done\n",
       "0      0.0   0.0         0.0   0.0\n",
       "1      3.0   3.0         2.0   0.0\n",
       "2     10.0   9.0         6.0   3.0\n",
       "3     14.0  12.0        11.0   6.0\n",
       "4     20.0  16.0        15.0   9.0"
      ]
     },
     "execution_count": 356,
     "metadata": {},
     "output_type": "execute_result"
    }
   ],
   "source": [
    "cumsum_df.head(5)"
   ]
  },
  {
   "cell_type": "code",
   "execution_count": 357,
   "metadata": {},
   "outputs": [
    {
     "data": {
      "text/plain": [
       "{'Backlog': 'cumsumBacklog',\n",
       " 'Next': 'cumsumNext',\n",
       " 'InProgress': 'cumsumInProgress',\n",
       " 'Done': 'cumsumDone'}"
      ]
     },
     "execution_count": 357,
     "metadata": {},
     "output_type": "execute_result"
    }
   ],
   "source": [
    "new_state_headings = [\"cumsum\" + str(x) for x in workflow_cycle]\n",
    "ColumnNameMapping = dict(zip(workflow_cycle, new_state_headings))\n",
    "ColumnNameMapping"
   ]
  },
  {
   "cell_type": "code",
   "execution_count": 358,
   "metadata": {},
   "outputs": [],
   "source": [
    "cumsum_df.rename(columns=ColumnNameMapping, inplace=True)"
   ]
  },
  {
   "cell_type": "code",
   "execution_count": 359,
   "metadata": {},
   "outputs": [
    {
     "data": {
      "text/plain": [
       "['Backlog', 'Next', 'InProgress', 'Done']"
      ]
     },
     "execution_count": 359,
     "metadata": {},
     "output_type": "execute_result"
    }
   ],
   "source": [
    "workflow_cycle"
   ]
  },
  {
   "cell_type": "code",
   "execution_count": 360,
   "metadata": {},
   "outputs": [
    {
     "data": {
      "text/plain": [
       "['Done', 'InProgress', 'Next', 'Backlog']"
      ]
     },
     "execution_count": 360,
     "metadata": {},
     "output_type": "execute_result"
    }
   ],
   "source": [
    "workflow_cycle[::-1]"
   ]
  },
  {
   "cell_type": "code",
   "execution_count": 361,
   "metadata": {},
   "outputs": [],
   "source": [
    "# Make sure that the new columns are in the same sequence as the workflow sycle states columns.\n",
    "#cumsum_df=cumsum_df[[\"cumsum\" + str(x) for x in workflow_cycle[::-1]]]\n",
    "cumsum_df=cumsum_df[[\"cumsum\" + str(x) for x in workflow_cycle]]\n"
   ]
  },
  {
   "cell_type": "code",
   "execution_count": 362,
   "metadata": {},
   "outputs": [
    {
     "data": {
      "text/html": [
       "<div>\n",
       "<style scoped>\n",
       "    .dataframe tbody tr th:only-of-type {\n",
       "        vertical-align: middle;\n",
       "    }\n",
       "\n",
       "    .dataframe tbody tr th {\n",
       "        vertical-align: top;\n",
       "    }\n",
       "\n",
       "    .dataframe thead th {\n",
       "        text-align: right;\n",
       "    }\n",
       "</style>\n",
       "<table border=\"1\" class=\"dataframe\">\n",
       "  <thead>\n",
       "    <tr style=\"text-align: right;\">\n",
       "      <th></th>\n",
       "      <th>cumsumBacklog</th>\n",
       "      <th>cumsumNext</th>\n",
       "      <th>cumsumInProgress</th>\n",
       "      <th>cumsumDone</th>\n",
       "    </tr>\n",
       "  </thead>\n",
       "  <tbody>\n",
       "    <tr>\n",
       "      <th>0</th>\n",
       "      <td>0.0</td>\n",
       "      <td>0.0</td>\n",
       "      <td>0.0</td>\n",
       "      <td>0.0</td>\n",
       "    </tr>\n",
       "    <tr>\n",
       "      <th>1</th>\n",
       "      <td>3.0</td>\n",
       "      <td>3.0</td>\n",
       "      <td>2.0</td>\n",
       "      <td>0.0</td>\n",
       "    </tr>\n",
       "    <tr>\n",
       "      <th>2</th>\n",
       "      <td>10.0</td>\n",
       "      <td>9.0</td>\n",
       "      <td>6.0</td>\n",
       "      <td>3.0</td>\n",
       "    </tr>\n",
       "    <tr>\n",
       "      <th>3</th>\n",
       "      <td>14.0</td>\n",
       "      <td>12.0</td>\n",
       "      <td>11.0</td>\n",
       "      <td>6.0</td>\n",
       "    </tr>\n",
       "    <tr>\n",
       "      <th>4</th>\n",
       "      <td>20.0</td>\n",
       "      <td>16.0</td>\n",
       "      <td>15.0</td>\n",
       "      <td>9.0</td>\n",
       "    </tr>\n",
       "  </tbody>\n",
       "</table>\n",
       "</div>"
      ],
      "text/plain": [
       "   cumsumBacklog  cumsumNext  cumsumInProgress  cumsumDone\n",
       "0            0.0         0.0               0.0         0.0\n",
       "1            3.0         3.0               2.0         0.0\n",
       "2           10.0         9.0               6.0         3.0\n",
       "3           14.0        12.0              11.0         6.0\n",
       "4           20.0        16.0              15.0         9.0"
      ]
     },
     "execution_count": 362,
     "metadata": {},
     "output_type": "execute_result"
    }
   ],
   "source": [
    "cumsum_df.head(5)"
   ]
  },
  {
   "cell_type": "code",
   "execution_count": 363,
   "metadata": {},
   "outputs": [],
   "source": [
    "# For debugging purposes\n",
    "#data_df.drop([\"cumsum\" + str(x) for x in workflow_cycle],axis=1,inplace=True)"
   ]
  },
  {
   "cell_type": "code",
   "execution_count": 364,
   "metadata": {},
   "outputs": [
    {
     "data": {
      "text/html": [
       "<div>\n",
       "<style scoped>\n",
       "    .dataframe tbody tr th:only-of-type {\n",
       "        vertical-align: middle;\n",
       "    }\n",
       "\n",
       "    .dataframe tbody tr th {\n",
       "        vertical-align: top;\n",
       "    }\n",
       "\n",
       "    .dataframe thead th {\n",
       "        text-align: right;\n",
       "    }\n",
       "</style>\n",
       "<table border=\"1\" class=\"dataframe\">\n",
       "  <thead>\n",
       "    <tr style=\"text-align: right;\">\n",
       "      <th></th>\n",
       "      <th>Date</th>\n",
       "      <th>Backlog</th>\n",
       "      <th>Next</th>\n",
       "      <th>InProgress</th>\n",
       "      <th>Done</th>\n",
       "      <th>Deleted</th>\n",
       "    </tr>\n",
       "  </thead>\n",
       "  <tbody>\n",
       "    <tr>\n",
       "      <th>0</th>\n",
       "      <td>2019-02-06</td>\n",
       "      <td>0.0</td>\n",
       "      <td>0.0</td>\n",
       "      <td>0.0</td>\n",
       "      <td>0.0</td>\n",
       "      <td>0</td>\n",
       "    </tr>\n",
       "    <tr>\n",
       "      <th>1</th>\n",
       "      <td>2019-02-07</td>\n",
       "      <td>0.0</td>\n",
       "      <td>1.0</td>\n",
       "      <td>2.0</td>\n",
       "      <td>0.0</td>\n",
       "      <td>0</td>\n",
       "    </tr>\n",
       "    <tr>\n",
       "      <th>2</th>\n",
       "      <td>2019-02-08</td>\n",
       "      <td>1.0</td>\n",
       "      <td>3.0</td>\n",
       "      <td>3.0</td>\n",
       "      <td>3.0</td>\n",
       "      <td>1</td>\n",
       "    </tr>\n",
       "    <tr>\n",
       "      <th>3</th>\n",
       "      <td>2019-02-09</td>\n",
       "      <td>2.0</td>\n",
       "      <td>1.0</td>\n",
       "      <td>5.0</td>\n",
       "      <td>6.0</td>\n",
       "      <td>3</td>\n",
       "    </tr>\n",
       "    <tr>\n",
       "      <th>4</th>\n",
       "      <td>2019-02-10</td>\n",
       "      <td>4.0</td>\n",
       "      <td>1.0</td>\n",
       "      <td>6.0</td>\n",
       "      <td>9.0</td>\n",
       "      <td>4</td>\n",
       "    </tr>\n",
       "  </tbody>\n",
       "</table>\n",
       "</div>"
      ],
      "text/plain": [
       "        Date  Backlog  Next  InProgress  Done  Deleted\n",
       "0 2019-02-06      0.0   0.0         0.0   0.0        0\n",
       "1 2019-02-07      0.0   1.0         2.0   0.0        0\n",
       "2 2019-02-08      1.0   3.0         3.0   3.0        1\n",
       "3 2019-02-09      2.0   1.0         5.0   6.0        3\n",
       "4 2019-02-10      4.0   1.0         6.0   9.0        4"
      ]
     },
     "execution_count": 364,
     "metadata": {},
     "output_type": "execute_result"
    }
   ],
   "source": [
    "data_df.head(5)"
   ]
  },
  {
   "cell_type": "code",
   "execution_count": 365,
   "metadata": {},
   "outputs": [],
   "source": [
    "data_df =pd.concat([data_df, cumsum_df], axis=1)"
   ]
  },
  {
   "cell_type": "code",
   "execution_count": 366,
   "metadata": {},
   "outputs": [
    {
     "data": {
      "text/html": [
       "<div>\n",
       "<style scoped>\n",
       "    .dataframe tbody tr th:only-of-type {\n",
       "        vertical-align: middle;\n",
       "    }\n",
       "\n",
       "    .dataframe tbody tr th {\n",
       "        vertical-align: top;\n",
       "    }\n",
       "\n",
       "    .dataframe thead th {\n",
       "        text-align: right;\n",
       "    }\n",
       "</style>\n",
       "<table border=\"1\" class=\"dataframe\">\n",
       "  <thead>\n",
       "    <tr style=\"text-align: right;\">\n",
       "      <th></th>\n",
       "      <th>Date</th>\n",
       "      <th>Backlog</th>\n",
       "      <th>Next</th>\n",
       "      <th>InProgress</th>\n",
       "      <th>Done</th>\n",
       "      <th>Deleted</th>\n",
       "      <th>cumsumBacklog</th>\n",
       "      <th>cumsumNext</th>\n",
       "      <th>cumsumInProgress</th>\n",
       "      <th>cumsumDone</th>\n",
       "    </tr>\n",
       "  </thead>\n",
       "  <tbody>\n",
       "    <tr>\n",
       "      <th>0</th>\n",
       "      <td>2019-02-06</td>\n",
       "      <td>0.0</td>\n",
       "      <td>0.0</td>\n",
       "      <td>0.0</td>\n",
       "      <td>0.0</td>\n",
       "      <td>0</td>\n",
       "      <td>0.0</td>\n",
       "      <td>0.0</td>\n",
       "      <td>0.0</td>\n",
       "      <td>0.0</td>\n",
       "    </tr>\n",
       "    <tr>\n",
       "      <th>1</th>\n",
       "      <td>2019-02-07</td>\n",
       "      <td>0.0</td>\n",
       "      <td>1.0</td>\n",
       "      <td>2.0</td>\n",
       "      <td>0.0</td>\n",
       "      <td>0</td>\n",
       "      <td>3.0</td>\n",
       "      <td>3.0</td>\n",
       "      <td>2.0</td>\n",
       "      <td>0.0</td>\n",
       "    </tr>\n",
       "    <tr>\n",
       "      <th>2</th>\n",
       "      <td>2019-02-08</td>\n",
       "      <td>1.0</td>\n",
       "      <td>3.0</td>\n",
       "      <td>3.0</td>\n",
       "      <td>3.0</td>\n",
       "      <td>1</td>\n",
       "      <td>10.0</td>\n",
       "      <td>9.0</td>\n",
       "      <td>6.0</td>\n",
       "      <td>3.0</td>\n",
       "    </tr>\n",
       "    <tr>\n",
       "      <th>3</th>\n",
       "      <td>2019-02-09</td>\n",
       "      <td>2.0</td>\n",
       "      <td>1.0</td>\n",
       "      <td>5.0</td>\n",
       "      <td>6.0</td>\n",
       "      <td>3</td>\n",
       "      <td>14.0</td>\n",
       "      <td>12.0</td>\n",
       "      <td>11.0</td>\n",
       "      <td>6.0</td>\n",
       "    </tr>\n",
       "  </tbody>\n",
       "</table>\n",
       "</div>"
      ],
      "text/plain": [
       "        Date  Backlog  Next  InProgress  Done  Deleted  cumsumBacklog  \\\n",
       "0 2019-02-06      0.0   0.0         0.0   0.0        0            0.0   \n",
       "1 2019-02-07      0.0   1.0         2.0   0.0        0            3.0   \n",
       "2 2019-02-08      1.0   3.0         3.0   3.0        1           10.0   \n",
       "3 2019-02-09      2.0   1.0         5.0   6.0        3           14.0   \n",
       "\n",
       "   cumsumNext  cumsumInProgress  cumsumDone  \n",
       "0         0.0               0.0         0.0  \n",
       "1         3.0               2.0         0.0  \n",
       "2         9.0               6.0         3.0  \n",
       "3        12.0              11.0         6.0  "
      ]
     },
     "execution_count": 366,
     "metadata": {},
     "output_type": "execute_result"
    }
   ],
   "source": [
    "data_df.head(4)"
   ]
  },
  {
   "cell_type": "markdown",
   "metadata": {},
   "source": [
    "## Daily Delivery Rate (DR)\n",
    "\n",
    "The number of completed activities for the day, that is the number of activities moved to Done column and not deleted/discarded;"
   ]
  },
  {
   "cell_type": "code",
   "execution_count": 367,
   "metadata": {},
   "outputs": [],
   "source": [
    "data_df['DR']=data_df[finished_state].astype(float).rolling(window=2).apply(lambda x: x[1] - x[0],raw=True)"
   ]
  },
  {
   "cell_type": "markdown",
   "metadata": {},
   "source": [
    "## mDR - the moving average delivery rate since the initial period (mDR);"
   ]
  },
  {
   "cell_type": "code",
   "execution_count": 368,
   "metadata": {},
   "outputs": [],
   "source": [
    "data_df['mDR'] = data_df['DR'].astype(float).expanding(min_periods=1).mean()"
   ]
  },
  {
   "cell_type": "code",
   "execution_count": 369,
   "metadata": {},
   "outputs": [
    {
     "data": {
      "text/html": [
       "<div>\n",
       "<style scoped>\n",
       "    .dataframe tbody tr th:only-of-type {\n",
       "        vertical-align: middle;\n",
       "    }\n",
       "\n",
       "    .dataframe tbody tr th {\n",
       "        vertical-align: top;\n",
       "    }\n",
       "\n",
       "    .dataframe thead th {\n",
       "        text-align: right;\n",
       "    }\n",
       "</style>\n",
       "<table border=\"1\" class=\"dataframe\">\n",
       "  <thead>\n",
       "    <tr style=\"text-align: right;\">\n",
       "      <th></th>\n",
       "      <th>Date</th>\n",
       "      <th>Backlog</th>\n",
       "      <th>Next</th>\n",
       "      <th>InProgress</th>\n",
       "      <th>Done</th>\n",
       "      <th>Deleted</th>\n",
       "      <th>cumsumBacklog</th>\n",
       "      <th>cumsumNext</th>\n",
       "      <th>cumsumInProgress</th>\n",
       "      <th>cumsumDone</th>\n",
       "      <th>DR</th>\n",
       "      <th>mDR</th>\n",
       "    </tr>\n",
       "  </thead>\n",
       "  <tbody>\n",
       "    <tr>\n",
       "      <th>0</th>\n",
       "      <td>2019-02-06</td>\n",
       "      <td>0.0</td>\n",
       "      <td>0.0</td>\n",
       "      <td>0.0</td>\n",
       "      <td>0.0</td>\n",
       "      <td>0</td>\n",
       "      <td>0.0</td>\n",
       "      <td>0.0</td>\n",
       "      <td>0.0</td>\n",
       "      <td>0.0</td>\n",
       "      <td>NaN</td>\n",
       "      <td>NaN</td>\n",
       "    </tr>\n",
       "    <tr>\n",
       "      <th>1</th>\n",
       "      <td>2019-02-07</td>\n",
       "      <td>0.0</td>\n",
       "      <td>1.0</td>\n",
       "      <td>2.0</td>\n",
       "      <td>0.0</td>\n",
       "      <td>0</td>\n",
       "      <td>3.0</td>\n",
       "      <td>3.0</td>\n",
       "      <td>2.0</td>\n",
       "      <td>0.0</td>\n",
       "      <td>0.0</td>\n",
       "      <td>0.00</td>\n",
       "    </tr>\n",
       "    <tr>\n",
       "      <th>2</th>\n",
       "      <td>2019-02-08</td>\n",
       "      <td>1.0</td>\n",
       "      <td>3.0</td>\n",
       "      <td>3.0</td>\n",
       "      <td>3.0</td>\n",
       "      <td>1</td>\n",
       "      <td>10.0</td>\n",
       "      <td>9.0</td>\n",
       "      <td>6.0</td>\n",
       "      <td>3.0</td>\n",
       "      <td>3.0</td>\n",
       "      <td>1.50</td>\n",
       "    </tr>\n",
       "    <tr>\n",
       "      <th>3</th>\n",
       "      <td>2019-02-09</td>\n",
       "      <td>2.0</td>\n",
       "      <td>1.0</td>\n",
       "      <td>5.0</td>\n",
       "      <td>6.0</td>\n",
       "      <td>3</td>\n",
       "      <td>14.0</td>\n",
       "      <td>12.0</td>\n",
       "      <td>11.0</td>\n",
       "      <td>6.0</td>\n",
       "      <td>3.0</td>\n",
       "      <td>2.00</td>\n",
       "    </tr>\n",
       "    <tr>\n",
       "      <th>4</th>\n",
       "      <td>2019-02-10</td>\n",
       "      <td>4.0</td>\n",
       "      <td>1.0</td>\n",
       "      <td>6.0</td>\n",
       "      <td>9.0</td>\n",
       "      <td>4</td>\n",
       "      <td>20.0</td>\n",
       "      <td>16.0</td>\n",
       "      <td>15.0</td>\n",
       "      <td>9.0</td>\n",
       "      <td>3.0</td>\n",
       "      <td>2.25</td>\n",
       "    </tr>\n",
       "  </tbody>\n",
       "</table>\n",
       "</div>"
      ],
      "text/plain": [
       "        Date  Backlog  Next  InProgress  Done  Deleted  cumsumBacklog  \\\n",
       "0 2019-02-06      0.0   0.0         0.0   0.0        0            0.0   \n",
       "1 2019-02-07      0.0   1.0         2.0   0.0        0            3.0   \n",
       "2 2019-02-08      1.0   3.0         3.0   3.0        1           10.0   \n",
       "3 2019-02-09      2.0   1.0         5.0   6.0        3           14.0   \n",
       "4 2019-02-10      4.0   1.0         6.0   9.0        4           20.0   \n",
       "\n",
       "   cumsumNext  cumsumInProgress  cumsumDone   DR   mDR  \n",
       "0         0.0               0.0         0.0  NaN   NaN  \n",
       "1         3.0               2.0         0.0  0.0  0.00  \n",
       "2         9.0               6.0         3.0  3.0  1.50  \n",
       "3        12.0              11.0         6.0  3.0  2.00  \n",
       "4        16.0              15.0         9.0  3.0  2.25  "
      ]
     },
     "execution_count": 369,
     "metadata": {},
     "output_type": "execute_result"
    }
   ],
   "source": [
    "data_df.head(5)"
   ]
  },
  {
   "cell_type": "markdown",
   "metadata": {},
   "source": [
    "## WIP metrics \n",
    "\n",
    "WIP = Work In Process  \n",
    "Note: \"In Process\" not \"In Progress\"\n",
    "\n",
    "* the daily WIP, the number of currently ongoing activities (Next plus In-progress);\n",
    "* the moving average WIP since the initial period (mWIP);\n",
    "* the moving average WIP of the latest seven days (mWIP(7));"
   ]
  },
  {
   "cell_type": "code",
   "execution_count": 370,
   "metadata": {},
   "outputs": [],
   "source": [
    "data_df['WIP']=data_df[in_process_states].astype(float).sum(axis=1)"
   ]
  },
  {
   "cell_type": "code",
   "execution_count": 371,
   "metadata": {},
   "outputs": [],
   "source": [
    "data_df['mWIP'] = data_df['WIP'].astype(float).expanding(min_periods=1).mean()"
   ]
  },
  {
   "cell_type": "code",
   "execution_count": 372,
   "metadata": {},
   "outputs": [],
   "source": [
    "data_df['mWIP7'] = data_df['WIP'].astype(float).rolling(window=7).mean()"
   ]
  },
  {
   "cell_type": "markdown",
   "metadata": {},
   "source": [
    "* the actual Daily Effort per activity, as the multiplicative inverse of WIP (1 / WIP);"
   ]
  },
  {
   "cell_type": "code",
   "execution_count": 373,
   "metadata": {},
   "outputs": [],
   "source": [
    "data_df['DainlyEffort'] = 1/data_df['WIP']"
   ]
  },
  {
   "cell_type": "markdown",
   "metadata": {},
   "source": [
    "## the daily mArrival and mThr rates for activities as described in Actionable Agile Metrics for Predictability book (as \"Incoming\" and \"Outgoing\");"
   ]
  },
  {
   "cell_type": "markdown",
   "metadata": {},
   "source": [
    "### mArrival = (first count of Next - Cumulative Sum of count of Next )/ (days since first count)\n",
    "\n",
    "numerator/denominator"
   ]
  },
  {
   "cell_type": "code",
   "execution_count": 374,
   "metadata": {},
   "outputs": [],
   "source": [
    "data_df['numerator']=data_df['cumsum'+started_state].expanding(min_periods=1).apply(lambda x: (x[-1]-x[0]),raw=True)"
   ]
  },
  {
   "cell_type": "code",
   "execution_count": 375,
   "metadata": {},
   "outputs": [],
   "source": [
    "first_date=data_df['Date'].iloc[0]"
   ]
  },
  {
   "cell_type": "code",
   "execution_count": 376,
   "metadata": {},
   "outputs": [],
   "source": [
    "data_df['denominator']=data_df['Date'].apply(lambda x: (x-first_date).days )"
   ]
  },
  {
   "cell_type": "code",
   "execution_count": 377,
   "metadata": {},
   "outputs": [],
   "source": [
    "data_df['mArrival']=data_df.apply(lambda row: (row.numerator/row.denominator) if (row.denominator> 0) else np.NaN,axis=1)"
   ]
  },
  {
   "cell_type": "markdown",
   "metadata": {},
   "source": [
    "### mThr = (first count of Done - Cumulative Sum of count of Done ) / ((days since second count) + 1)"
   ]
  },
  {
   "cell_type": "code",
   "execution_count": 378,
   "metadata": {},
   "outputs": [],
   "source": [
    "data_df['numerator']=data_df['cumsum'+finished_state].expanding(min_periods=1).apply(lambda x: (x[-1]-x[0]),raw=True)"
   ]
  },
  {
   "cell_type": "code",
   "execution_count": 379,
   "metadata": {},
   "outputs": [],
   "source": [
    "first_date=data_df['Date'].iloc[1]"
   ]
  },
  {
   "cell_type": "code",
   "execution_count": 380,
   "metadata": {},
   "outputs": [],
   "source": [
    "data_df['denominator']=data_df['Date'].apply(lambda x: (x-first_date).days + 1 )"
   ]
  },
  {
   "cell_type": "code",
   "execution_count": 381,
   "metadata": {},
   "outputs": [],
   "source": [
    "data_df['mThr']=data_df.apply(lambda row: (row.numerator/row.denominator) if (row.denominator> 0) else np.NaN,axis=1)"
   ]
  },
  {
   "cell_type": "code",
   "execution_count": 382,
   "metadata": {},
   "outputs": [],
   "source": [
    "data_df['mThr7'] = data_df['mThr'].astype(float).rolling(window=7).mean()"
   ]
  },
  {
   "cell_type": "markdown",
   "metadata": {},
   "source": [
    "## Average lead time (mLT) computed as mWIP / mThr;\n"
   ]
  },
  {
   "cell_type": "code",
   "execution_count": 383,
   "metadata": {},
   "outputs": [],
   "source": [
    "data_df['mLT']=data_df.apply(lambda row: (row.mWIP/row.mThr) if (row.mThr> 0) else np.NaN,axis=1)"
   ]
  },
  {
   "cell_type": "markdown",
   "metadata": {},
   "source": [
    "## average lead time (mLT(7)) computed as mWIP(7) / mThr(7);"
   ]
  },
  {
   "cell_type": "code",
   "execution_count": 384,
   "metadata": {},
   "outputs": [],
   "source": [
    "data_df['mLT7']=data_df.apply(lambda row: (row.mWIP7/row.mThr7) if (row.mThr7> 0) else np.NaN,axis=1)"
   ]
  },
  {
   "cell_type": "markdown",
   "metadata": {},
   "source": [
    "## Approximate Average Lead Time (AALT)\n",
    "\n",
    "computed as described in Actionable Agile Metrics for Predictability book.\n",
    "\n",
    "also see https://chronologist.com/blog/2015-03-12/actionable-agile-metrics-review-part-4/"
   ]
  },
  {
   "cell_type": "code",
   "execution_count": 385,
   "metadata": {},
   "outputs": [],
   "source": [
    "#todo"
   ]
  },
  {
   "cell_type": "markdown",
   "metadata": {},
   "source": [
    "## Flow Time Histogram and Distribution Calculations"
   ]
  },
  {
   "cell_type": "code",
   "execution_count": 386,
   "metadata": {},
   "outputs": [
    {
     "data": {
      "text/plain": [
       "Index(['ID', 'Name', 'Backlog', 'Next', 'InProgress', 'Done', 'Age', 'FT',\n",
       "       'mFT', '50', '70', '85', '95', 'WaitTime', 'Impact', 'Likelihood',\n",
       "       'Risk', 'FE', 'mFE'],\n",
       "      dtype='object')"
      ]
     },
     "execution_count": 386,
     "metadata": {},
     "output_type": "execute_result"
    }
   ],
   "source": [
    "metrics_df.columns"
   ]
  },
  {
   "cell_type": "code",
   "execution_count": 387,
   "metadata": {},
   "outputs": [],
   "source": [
    "data=[]\n",
    "for i in range(0, 105, 5):\n",
    "    PercentileFT=metrics_df['FT'].quantile(i/100)\n",
    "    #print(i,PercentileFT)\n",
    "    data.append(dict({'P':i,\n",
    "                      'PercentileFT': PercentileFT,\n",
    "                     }))\n",
    "    #print(i,metrics_df['Backlog'].quantile(i/100)) #Percentile (Backlog)\n",
    "distribution_df=pd.DataFrame(data)"
   ]
  },
  {
   "cell_type": "code",
   "execution_count": 388,
   "metadata": {},
   "outputs": [
    {
     "data": {
      "text/html": [
       "<div>\n",
       "<style scoped>\n",
       "    .dataframe tbody tr th:only-of-type {\n",
       "        vertical-align: middle;\n",
       "    }\n",
       "\n",
       "    .dataframe tbody tr th {\n",
       "        vertical-align: top;\n",
       "    }\n",
       "\n",
       "    .dataframe thead th {\n",
       "        text-align: right;\n",
       "    }\n",
       "</style>\n",
       "<table border=\"1\" class=\"dataframe\">\n",
       "  <thead>\n",
       "    <tr style=\"text-align: right;\">\n",
       "      <th></th>\n",
       "      <th>P</th>\n",
       "      <th>PercentileFT</th>\n",
       "    </tr>\n",
       "  </thead>\n",
       "  <tbody>\n",
       "    <tr>\n",
       "      <th>0</th>\n",
       "      <td>0</td>\n",
       "      <td>1.0</td>\n",
       "    </tr>\n",
       "    <tr>\n",
       "      <th>1</th>\n",
       "      <td>5</td>\n",
       "      <td>1.0</td>\n",
       "    </tr>\n",
       "    <tr>\n",
       "      <th>2</th>\n",
       "      <td>10</td>\n",
       "      <td>1.0</td>\n",
       "    </tr>\n",
       "    <tr>\n",
       "      <th>3</th>\n",
       "      <td>15</td>\n",
       "      <td>1.0</td>\n",
       "    </tr>\n",
       "    <tr>\n",
       "      <th>4</th>\n",
       "      <td>20</td>\n",
       "      <td>1.0</td>\n",
       "    </tr>\n",
       "    <tr>\n",
       "      <th>5</th>\n",
       "      <td>25</td>\n",
       "      <td>1.0</td>\n",
       "    </tr>\n",
       "    <tr>\n",
       "      <th>6</th>\n",
       "      <td>30</td>\n",
       "      <td>1.0</td>\n",
       "    </tr>\n",
       "    <tr>\n",
       "      <th>7</th>\n",
       "      <td>35</td>\n",
       "      <td>1.0</td>\n",
       "    </tr>\n",
       "    <tr>\n",
       "      <th>8</th>\n",
       "      <td>40</td>\n",
       "      <td>1.0</td>\n",
       "    </tr>\n",
       "    <tr>\n",
       "      <th>9</th>\n",
       "      <td>45</td>\n",
       "      <td>2.0</td>\n",
       "    </tr>\n",
       "    <tr>\n",
       "      <th>10</th>\n",
       "      <td>50</td>\n",
       "      <td>2.0</td>\n",
       "    </tr>\n",
       "    <tr>\n",
       "      <th>11</th>\n",
       "      <td>55</td>\n",
       "      <td>2.0</td>\n",
       "    </tr>\n",
       "    <tr>\n",
       "      <th>12</th>\n",
       "      <td>60</td>\n",
       "      <td>2.0</td>\n",
       "    </tr>\n",
       "    <tr>\n",
       "      <th>13</th>\n",
       "      <td>65</td>\n",
       "      <td>2.0</td>\n",
       "    </tr>\n",
       "    <tr>\n",
       "      <th>14</th>\n",
       "      <td>70</td>\n",
       "      <td>2.0</td>\n",
       "    </tr>\n",
       "    <tr>\n",
       "      <th>15</th>\n",
       "      <td>75</td>\n",
       "      <td>3.0</td>\n",
       "    </tr>\n",
       "    <tr>\n",
       "      <th>16</th>\n",
       "      <td>80</td>\n",
       "      <td>4.0</td>\n",
       "    </tr>\n",
       "    <tr>\n",
       "      <th>17</th>\n",
       "      <td>85</td>\n",
       "      <td>8.5</td>\n",
       "    </tr>\n",
       "    <tr>\n",
       "      <th>18</th>\n",
       "      <td>90</td>\n",
       "      <td>15.0</td>\n",
       "    </tr>\n",
       "    <tr>\n",
       "      <th>19</th>\n",
       "      <td>95</td>\n",
       "      <td>16.0</td>\n",
       "    </tr>\n",
       "    <tr>\n",
       "      <th>20</th>\n",
       "      <td>100</td>\n",
       "      <td>18.0</td>\n",
       "    </tr>\n",
       "  </tbody>\n",
       "</table>\n",
       "</div>"
      ],
      "text/plain": [
       "      P  PercentileFT\n",
       "0     0           1.0\n",
       "1     5           1.0\n",
       "2    10           1.0\n",
       "3    15           1.0\n",
       "4    20           1.0\n",
       "5    25           1.0\n",
       "6    30           1.0\n",
       "7    35           1.0\n",
       "8    40           1.0\n",
       "9    45           2.0\n",
       "10   50           2.0\n",
       "11   55           2.0\n",
       "12   60           2.0\n",
       "13   65           2.0\n",
       "14   70           2.0\n",
       "15   75           3.0\n",
       "16   80           4.0\n",
       "17   85           8.5\n",
       "18   90          15.0\n",
       "19   95          16.0\n",
       "20  100          18.0"
      ]
     },
     "execution_count": 388,
     "metadata": {},
     "output_type": "execute_result"
    }
   ],
   "source": [
    "distribution_df"
   ]
  },
  {
   "cell_type": "markdown",
   "metadata": {},
   "source": [
    "# Charts\n",
    "\n",
    "The images will be saved to disk. \n",
    "\n",
    "Alternatively for manual save use Shift + Right click MS-Windows / Linux, or for a mac, hold down shift while doing the two-finger click to bring up menu to save image."
   ]
  },
  {
   "cell_type": "code",
   "execution_count": 389,
   "metadata": {},
   "outputs": [],
   "source": [
    "# Data for Flow Time Histogram\n",
    "results=metrics_df['FT'].value_counts(sort=False, dropna=True)\n",
    "results.sort_index(inplace=True)\n",
    "#vals, counts = np.unique(metrics_df['FT'], return_counts=True)\n",
    "#results = dict(zip(vals, counts))"
   ]
  },
  {
   "cell_type": "code",
   "execution_count": 390,
   "metadata": {},
   "outputs": [
    {
     "data": {
      "text/plain": [
       "1.0     13\n",
       "2.0      9\n",
       "3.0      2\n",
       "4.0      1\n",
       "6.0      1\n",
       "11.0     1\n",
       "15.0     2\n",
       "17.0     1\n",
       "18.0     1\n",
       "Name: FT, dtype: int64"
      ]
     },
     "execution_count": 390,
     "metadata": {},
     "output_type": "execute_result"
    }
   ],
   "source": [
    "results"
   ]
  },
  {
   "cell_type": "code",
   "execution_count": 391,
   "metadata": {},
   "outputs": [],
   "source": [
    "max_xrange=results.index[-1]+2"
   ]
  },
  {
   "cell_type": "code",
   "execution_count": 392,
   "metadata": {},
   "outputs": [
    {
     "data": {
      "text/plain": [
       "20.0"
      ]
     },
     "execution_count": 392,
     "metadata": {},
     "output_type": "execute_result"
    }
   ],
   "source": [
    "max_xrange"
   ]
  },
  {
   "cell_type": "code",
   "execution_count": 393,
   "metadata": {},
   "outputs": [],
   "source": [
    "max_yrange=results.max() + 2"
   ]
  },
  {
   "cell_type": "code",
   "execution_count": 394,
   "metadata": {},
   "outputs": [],
   "source": [
    "data_series=metrics_df.loc[~metrics_df['FT'].isnull(),'FT']  # Drop all the Null values"
   ]
  },
  {
   "cell_type": "code",
   "execution_count": 395,
   "metadata": {},
   "outputs": [],
   "source": [
    "bins = [i for i in range(1,int(max_xrange),1)]"
   ]
  },
  {
   "cell_type": "code",
   "execution_count": 396,
   "metadata": {},
   "outputs": [
    {
     "data": {
      "text/plain": [
       "[1, 2, 3, 4, 5, 6, 7, 8, 9, 10, 11, 12, 13, 14, 15, 16, 17, 18, 19]"
      ]
     },
     "execution_count": 396,
     "metadata": {},
     "output_type": "execute_result"
    }
   ],
   "source": [
    "bins"
   ]
  },
  {
   "cell_type": "code",
   "execution_count": 397,
   "metadata": {},
   "outputs": [
    {
     "data": {
      "image/png": "[encoded data removed]",
      "text/plain": [
       "<Figure size 1080x360 with 1 Axes>"
      ]
     },
     "metadata": {},
     "output_type": "display_data"
    }
   ],
   "source": [
    "# https://stackoverflow.com/questions/41024455/histogram-with-non-normalized-fit-line-matplotlib\n",
    "\n",
    "fig,ax = plt.subplots(figsize=(15,5),facecolor=\"w\")\n",
    "# plot normed histogram\n",
    "n, bins, patches = plt.hist(data_series,bins=bins, density=False, alpha=0.5,label=\"Count\")\n",
    "\n",
    "# Major ticks every 20, minor ticks every 5\n",
    "major_xticks = np.arange(0, max_xrange, 1)\n",
    "minor_xticks = np.arange(0, max_xrange, 5)\n",
    "major_yticks = np.arange(0, max_yrange, 1)\n",
    "minor_yticks = np.arange(0, max_yrange, 5)\n",
    "\n",
    "ax.set_xticks(major_xticks)\n",
    "ax.set_xticks(minor_xticks, minor=True)\n",
    "ax.set_yticks(major_yticks)\n",
    "ax.set_yticks(minor_yticks, minor=True)\n",
    "\n",
    "# find minimum and maximum of xticks, so we know\n",
    "# where we should compute theoretical distribution\n",
    "xt = plt.xticks()[0]  \n",
    "xmin, xmax = min(xt), max(xt)  \n",
    "lnspc = np.linspace(xmin, xmax, len(data_series))\n",
    "\n",
    "ag,bg,cg = stats.weibull_min.fit(data_series)  \n",
    "pdf_weibull = stats.weibull_min.pdf(lnspc, ag, bg,cg)  * sum(n * np.diff(bins))\n",
    "plt.plot(lnspc, pdf_weibull, label=\"Weibull_min Distribution\")\n",
    "\n",
    "plt.grid(True)\n",
    "plt.legend(loc='lower right',bbox_to_anchor=(-0.07,0.8))\n",
    "ax.set(xlabel='Flow Time in Days',\n",
    "      ylabel='Count',\n",
    "      title='Flow Time Distribution\\n'+today_nice_str)\n",
    "\n",
    "plt.tight_layout()\n",
    "plt.savefig(today_str+'_Flow_Time_Histogram.png')\n",
    "#plt.show()\n"
   ]
  },
  {
   "cell_type": "markdown",
   "metadata": {},
   "source": [
    "## Scatter plot - Matplotlib"
   ]
  },
  {
   "cell_type": "code",
   "execution_count": 398,
   "metadata": {},
   "outputs": [],
   "source": [
    "data_line95=metrics_df.loc[metrics_df[finished_state].notnull(),[finished_state,'95']].drop_duplicates()\n",
    "data_line85=metrics_df.loc[metrics_df[finished_state].notnull(),[finished_state,'85']].drop_duplicates()\n",
    "data_line70=metrics_df.loc[metrics_df[finished_state].notnull(),[finished_state,'70']].drop_duplicates()\n",
    "data_line50=metrics_df.loc[metrics_df[finished_state].notnull(),[finished_state,'50']].drop_duplicates()"
   ]
  },
  {
   "cell_type": "code",
   "execution_count": 399,
   "metadata": {},
   "outputs": [
    {
     "data": {
      "image/png": "[encoded data removed]",
      "text/plain": [
       "<Figure size 1080x720 with 1 Axes>"
      ]
     },
     "metadata": {
      "needs_background": "light"
     },
     "output_type": "display_data"
    }
   ],
   "source": [
    "fig,ax = plt.subplots(figsize=(15,10))\n",
    "ax.plot(metrics_df[finished_state], metrics_df['FT'],lw=0,marker='x') # Bit of a trick to convert line chart to be scatter by setting linewidth to zero and add markers.\n",
    "ax.plot(list(data_line95[finished_state].values),list(data_line95['95'].values),label=\"95% precentile\",alpha=0.5)\n",
    "ax.plot(list(data_line85[finished_state].values),list(data_line85['85'].values),label=\"85% precentile\",alpha=0.5)\n",
    "ax.plot(list(data_line70[finished_state].values),list(data_line70['70'].values),label=\"70% precentile\",alpha=0.5)\n",
    "ax.plot(list(data_line50[finished_state].values),list(data_line50['50'].values),label=\"50% precentile\",alpha=0.5)\n",
    "plt.setp(ax.get_xticklabels(),rotation=45)\n",
    "plt.legend(loc='lower right',bbox_to_anchor=(-0.07,0.8))\n",
    "plt.grid(True)\n",
    "ax.set(xlabel='Date',\n",
    "      ylabel='Days',\n",
    "      title='Flow Time Scatter plot and Percentiles\\n'+today_nice_str)\n",
    "ax.tick_params(which='minor', direction='in', length=6, width=2, colors='grey', grid_color='r', grid_alpha=0.5)\n",
    "ax.xaxis.set_major_locator(mondays)\n",
    "ax.xaxis.set_minor_locator(alldays)\n",
    "ax.xaxis.set_major_formatter(mdates.DateFormatter('%b %d   '))\n",
    "ax.xaxis.set_minor_formatter(mdates.DateFormatter('%a'))\n",
    "\n",
    "plt.tight_layout()\n",
    "plt.savefig(today_str+'_Done_FlowTime_Scatter_Plot_with_FT_Percentiles.png')\n",
    "#plt.show()\n"
   ]
  },
  {
   "cell_type": "markdown",
   "metadata": {},
   "source": [
    "## Cummulative Flow Diagram - Matplotlib"
   ]
  },
  {
   "cell_type": "code",
   "execution_count": 400,
   "metadata": {},
   "outputs": [
    {
     "data": {
      "text/html": [
       "<div>\n",
       "<style scoped>\n",
       "    .dataframe tbody tr th:only-of-type {\n",
       "        vertical-align: middle;\n",
       "    }\n",
       "\n",
       "    .dataframe tbody tr th {\n",
       "        vertical-align: top;\n",
       "    }\n",
       "\n",
       "    .dataframe thead th {\n",
       "        text-align: right;\n",
       "    }\n",
       "</style>\n",
       "<table border=\"1\" class=\"dataframe\">\n",
       "  <thead>\n",
       "    <tr style=\"text-align: right;\">\n",
       "      <th></th>\n",
       "      <th>cumsumBacklog</th>\n",
       "      <th>cumsumNext</th>\n",
       "      <th>cumsumInProgress</th>\n",
       "      <th>cumsumDone</th>\n",
       "    </tr>\n",
       "  </thead>\n",
       "  <tbody>\n",
       "    <tr>\n",
       "      <th>27</th>\n",
       "      <td>36.0</td>\n",
       "      <td>36.0</td>\n",
       "      <td>30.0</td>\n",
       "      <td>26.0</td>\n",
       "    </tr>\n",
       "    <tr>\n",
       "      <th>28</th>\n",
       "      <td>37.0</td>\n",
       "      <td>36.0</td>\n",
       "      <td>30.0</td>\n",
       "      <td>26.0</td>\n",
       "    </tr>\n",
       "    <tr>\n",
       "      <th>29</th>\n",
       "      <td>37.0</td>\n",
       "      <td>36.0</td>\n",
       "      <td>30.0</td>\n",
       "      <td>26.0</td>\n",
       "    </tr>\n",
       "    <tr>\n",
       "      <th>30</th>\n",
       "      <td>37.0</td>\n",
       "      <td>36.0</td>\n",
       "      <td>30.0</td>\n",
       "      <td>26.0</td>\n",
       "    </tr>\n",
       "    <tr>\n",
       "      <th>31</th>\n",
       "      <td>26.0</td>\n",
       "      <td>26.0</td>\n",
       "      <td>26.0</td>\n",
       "      <td>26.0</td>\n",
       "    </tr>\n",
       "  </tbody>\n",
       "</table>\n",
       "</div>"
      ],
      "text/plain": [
       "    cumsumBacklog  cumsumNext  cumsumInProgress  cumsumDone\n",
       "27           36.0        36.0              30.0        26.0\n",
       "28           37.0        36.0              30.0        26.0\n",
       "29           37.0        36.0              30.0        26.0\n",
       "30           37.0        36.0              30.0        26.0\n",
       "31           26.0        26.0              26.0        26.0"
      ]
     },
     "execution_count": 400,
     "metadata": {},
     "output_type": "execute_result"
    }
   ],
   "source": [
    "data_df[new_state_headings].tail(5)"
   ]
  },
  {
   "cell_type": "code",
   "execution_count": 401,
   "metadata": {},
   "outputs": [],
   "source": [
    "x=list(data_df['Date'].values)\n",
    "y1=list(data_df['cumsumBacklog'].values)\n",
    "y2=list(data_df['cumsumNext'].values)\n",
    "y3=list(data_df['cumsumInProgress'].values)\n",
    "y4=list(data_df['cumsumDone'].values)"
   ]
  },
  {
   "cell_type": "code",
   "execution_count": 402,
   "metadata": {},
   "outputs": [
    {
     "data": {
      "image/png": "[encoded data removed]",
      "text/plain": [
       "<Figure size 1440x720 with 1 Axes>"
      ]
     },
     "metadata": {
      "needs_background": "light"
     },
     "output_type": "display_data"
    }
   ],
   "source": [
    "# Create the plot space upon which to plot\n",
    "fig,ax = plt.subplots(figsize=(20,10))\n",
    "ax.plot(x,y1,label=\"Backlog\",color='blue')\n",
    "ax.plot(x,y2,label=\"Next\",color='pink')\n",
    "ax.plot(x,y3,label=\"InProgress\",color='magenta')\n",
    "ax.plot(x,y4,label=\"Done\", color='green')\n",
    "ax.fill_between(x, 0, y1, facecolor='green', interpolate=True)\n",
    "ax.fill_between(x, y1, y2, where=y4 < y3, facecolor='blue', interpolate=True)\n",
    "ax.fill_between(x, y2, y3, where=y4 < y3, facecolor='pink', interpolate=True)\n",
    "ax.fill_between(x, y3, y4, where=y4 < y3, facecolor='magenta', interpolate=True)\n",
    "\n",
    "plt.setp(ax.get_xticklabels(),rotation=45)\n",
    "plt.grid(True)\n",
    "plt.legend(loc='lower right',bbox_to_anchor=(-0.07,0.8))\n",
    "ax.set(xlabel='Date',\n",
    "      ylabel='Count',\n",
    "      title='Cummulative Flow Diagram\\n'+today_nice_str)\n",
    "ax.tick_params(which='minor', direction='in', length=6, width=2, colors='grey', grid_color='r', grid_alpha=0.5)\n",
    "ax.xaxis.set_major_locator(mondays)\n",
    "ax.xaxis.set_minor_locator(alldays)\n",
    "ax.xaxis.set_major_formatter(mdates.DateFormatter('%b %d   '))\n",
    "ax.xaxis.set_minor_formatter(mdates.DateFormatter('%a'))\n",
    "\n",
    "plt.tight_layout()\n",
    "plt.savefig(today_str+'_CFD.png')\n",
    "#plt.show()"
   ]
  },
  {
   "cell_type": "markdown",
   "metadata": {},
   "source": [
    "### Daily Run Chart - Matplotlib"
   ]
  },
  {
   "cell_type": "code",
   "execution_count": 403,
   "metadata": {},
   "outputs": [],
   "source": [
    "x=list(data_df['Date'].values)\n",
    "y1=list(data_df['Backlog'].values)\n",
    "y2=list(data_df['DR'].values)\n",
    "y3=list(data_df['WIP'].values)"
   ]
  },
  {
   "cell_type": "code",
   "execution_count": 404,
   "metadata": {},
   "outputs": [
    {
     "data": {
      "image/png": "[encoded data removed]",
      "text/plain": [
       "<Figure size 1440x576 with 1 Axes>"
      ]
     },
     "metadata": {
      "needs_background": "light"
     },
     "output_type": "display_data"
    }
   ],
   "source": [
    "# Create the plot space upon which to plot\n",
    "fig,ax = plt.subplots(figsize=(20,8))\n",
    "ax.plot(x,y1,label=\"Backlog\",color='blue')\n",
    "ax.plot(x,y2,label=\"DR\",color='pink')\n",
    "ax.plot(x,y3,label=\"WIP\",color='magenta')\n",
    "plt.setp(ax.get_xticklabels(),rotation=45)\n",
    "#plt.grid(True)\n",
    "plt.grid(b=True, which='major', color='b', linestyle='--',alpha=0.5)\n",
    "plt.grid(b=True, which='minor', color='gray', linestyle=':',alpha=0.5)\n",
    "plt.legend(loc='lower right',bbox_to_anchor=(-0.07,0.8))\n",
    "ax.set(xlabel='Date',\n",
    "      ylabel='Count',\n",
    "      title='Daily Run Chart\\n'+today_nice_str)\n",
    "ax.tick_params(which='minor', direction='in', length=6, width=2, colors='gray')\n",
    "ax.xaxis.set_major_locator(mondays)\n",
    "ax.xaxis.set_minor_locator(alldays)\n",
    "ax.xaxis.set_major_formatter(mdates.DateFormatter('%b %d   '))\n",
    "ax.xaxis.set_minor_formatter(mdates.DateFormatter('%a'))\n",
    "plt.tight_layout()\n",
    "plt.savefig(today_str+'_Daily_run_chart.png')\n",
    "#plt.show()"
   ]
  },
  {
   "cell_type": "markdown",
   "metadata": {},
   "source": [
    "## Flow Efficiency FE and mFE Matplotlib"
   ]
  },
  {
   "cell_type": "code",
   "execution_count": 405,
   "metadata": {},
   "outputs": [
    {
     "data": {
      "text/plain": [
       "Index(['ID', 'Name', 'Backlog', 'Next', 'InProgress', 'Done', 'Age', 'FT',\n",
       "       'mFT', '50', '70', '85', '95', 'WaitTime', 'Impact', 'Likelihood',\n",
       "       'Risk', 'FE', 'mFE'],\n",
       "      dtype='object')"
      ]
     },
     "execution_count": 405,
     "metadata": {},
     "output_type": "execute_result"
    }
   ],
   "source": [
    "metrics_df.columns"
   ]
  },
  {
   "cell_type": "code",
   "execution_count": 406,
   "metadata": {},
   "outputs": [],
   "source": [
    "x=list(metrics_df['Done'].values)\n",
    "y1=list(metrics_df['FE'].values)\n",
    "y2=list(metrics_df['mFE'].values)"
   ]
  },
  {
   "cell_type": "code",
   "execution_count": 407,
   "metadata": {},
   "outputs": [
    {
     "data": {
      "image/png": "[encoded data removed]",
      "text/plain": [
       "<Figure size 864x576 with 1 Axes>"
      ]
     },
     "metadata": {
      "needs_background": "light"
     },
     "output_type": "display_data"
    }
   ],
   "source": [
    "# Create the plot space upon which to plot\n",
    "fig,ax = plt.subplots(figsize=(12,8))\n",
    "ax.plot(x, y1,lw=0,label=\"FE\",marker='o') # Bit of a trick to convert line chart to be scatter by setting linewidth to zero and add markers.\n",
    "ax.plot(x,y2,label=\"mFE\",color='magenta')\n",
    "plt.setp(ax.get_xticklabels(),rotation=45)\n",
    "plt.grid(True)\n",
    "plt.legend(loc='lower right',bbox_to_anchor=(-0.07,0.8))\n",
    "ax.set(xlabel='Date',\n",
    "      ylabel='Percent',\n",
    "      title='Flow Efficiency Chart\\n'+today_nice_str)\n",
    "ax.xaxis.set_major_locator(mdates.WeekdayLocator())\n",
    "ax.xaxis.set_major_formatter(mdates.DateFormatter('%b %d'))\n",
    "\n",
    "plt.tight_layout()\n",
    "plt.savefig(today_str+'_Flow_Efficiency.png')\n",
    "#plt.show()"
   ]
  },
  {
   "cell_type": "markdown",
   "metadata": {},
   "source": [
    "## Class of Service Ratio Pie Chart - Matplotlib"
   ]
  },
  {
   "cell_type": "code",
   "execution_count": 408,
   "metadata": {},
   "outputs": [],
   "source": [
    "if 'CoS' in activities_df.columns:\n",
    "    cos=activities_df.groupby(['CoS']).size()\n",
    "    sizes=list(cos.values)\n",
    "    labels=list(cos.index)"
   ]
  },
  {
   "cell_type": "code",
   "execution_count": 409,
   "metadata": {},
   "outputs": [
    {
     "name": "stdout",
     "output_type": "stream",
     "text": [
      "CoS\n",
      "Expedite       3\n",
      "Fixed Date     4\n",
      "Intangible     7\n",
      "Standard      28\n",
      "dtype: int64\n"
     ]
    }
   ],
   "source": [
    "if 'CoS' in activities_df.columns:\n",
    "    print(cos)"
   ]
  },
  {
   "cell_type": "code",
   "execution_count": 410,
   "metadata": {},
   "outputs": [],
   "source": [
    "## Flow Efficiency FE and mFE"
   ]
  },
  {
   "cell_type": "code",
   "execution_count": 411,
   "metadata": {},
   "outputs": [
    {
     "data": {
      "image/png": "[encoded data removed]",
      "text/plain": [
       "<Figure size 360x432 with 1 Axes>"
      ]
     },
     "metadata": {},
     "output_type": "display_data"
    }
   ],
   "source": [
    "if 'CoS' in activities_df.columns:\n",
    "    # Create the plot space upon which to plot\n",
    "    # See link for more information on positiong the legend https://stackoverflow.com/questions/43272206/python-legend-overlaps-with-the-pie-chart\n",
    "    fig,ax = plt.subplots(figsize=(5,6))\n",
    "    patches, text, _ = plt.pie(sizes, labels= labels,autopct='%.0f%%')\n",
    "    #axes[0].legend(bbox_to_anchor=(0, 0.5))\n",
    "    # Set aspect ratio to be equal so that pie is drawn as a circle.\n",
    "    plt.legend(patches, ['%s - %1.0f ' % (l, s) for l, s in zip(labels, sizes)],loc=\"best\") #,bbox_to_anchor=(1,0), bbox_transform=plt.gcf().transFigure)\n",
    "    plt.axis('equal')\n",
    "    ax.set(title='Class of Service Ratio')\n",
    "    plt.tight_layout()\n",
    "    plt.savefig(today_str+'_Class_Of_Service_Ratios.png')\n",
    "    #plt.show()\n",
    "    "
   ]
  },
  {
   "cell_type": "code",
   "execution_count": null,
   "metadata": {},
   "outputs": [],
   "source": []
  },
  {
   "cell_type": "code",
   "execution_count": null,
   "metadata": {},
   "outputs": [],
   "source": []
  }
 ],
 "metadata": {
  "kernelspec": {
   "display_name": "Python 3",
   "language": "python",
   "name": "python3"
  },
  "language_info": {
   "codemirror_mode": {
    "name": "ipython",
    "version": 3
   },
   "file_extension": ".py",
   "mimetype": "text/x-python",
   "name": "python",
   "nbconvert_exporter": "python",
   "pygments_lexer": "ipython3",
   "version": "3.7.1"
  }
 },
 "nbformat": 4,
 "nbformat_minor": 2
}
